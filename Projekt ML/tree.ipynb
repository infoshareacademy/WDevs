{
 "cells": [
  {
   "cell_type": "code",
   "execution_count": 2,
   "source": [
    "import numpy as np\r\n",
    "import pandas as pd\r\n",
    "import matplotlib.pyplot as plt\r\n",
    "from sklearn.tree import DecisionTreeRegressor\r\n",
    "from sklearn.ensemble import RandomForestRegressor\r\n",
    "from dtreeviz.trees import *\r\n",
    "from sklearn.model_selection import cross_val_score, train_test_split, KFold, StratifiedKFold\r\n",
    "from sklearn.metrics import mean_squared_error, accuracy_score\r\n"
   ],
   "outputs": [],
   "metadata": {}
  },
  {
   "cell_type": "code",
   "execution_count": 3,
   "source": [
    "df = pd.read_csv('processed_data_toDummies.csv')"
   ],
   "outputs": [],
   "metadata": {}
  },
  {
   "cell_type": "code",
   "execution_count": 9,
   "source": [
    "df.head(2)"
   ],
   "outputs": [
    {
     "output_type": "execute_result",
     "data": {
      "text/plain": [
       "   Year                   Hobbyist  ConvertedComp         Country  \\\n",
       "0  2017                  Yes, both    43750.00000  United Kingdom   \n",
       "1  2017  Yes, I program as a hobby    51282.05128         Denmark   \n",
       "\n",
       "                                             EdLevel          Employment  \\\n",
       "0                                  Bachelor's degree  Employed full-time   \n",
       "1  Some college/university study without earning ...  Employed part-time   \n",
       "\n",
       "   JobSat               OrgSize    UndergradMajor  YearsCodePro  \\\n",
       "0     4.0      2 to 9 employees  Computer science           2.0   \n",
       "1    10.0  100 to 499 employees  Computer science           3.0   \n",
       "\n",
       "   Data scientist or machine learning specialist  Database administrator  \\\n",
       "0                                              1                       1   \n",
       "1                                              1                       0   \n",
       "\n",
       "   Data or business analyst  Engineer, data  \n",
       "0                       NaN             NaN  \n",
       "1                       NaN             NaN  "
      ],
      "text/html": [
       "<div>\n",
       "<style scoped>\n",
       "    .dataframe tbody tr th:only-of-type {\n",
       "        vertical-align: middle;\n",
       "    }\n",
       "\n",
       "    .dataframe tbody tr th {\n",
       "        vertical-align: top;\n",
       "    }\n",
       "\n",
       "    .dataframe thead th {\n",
       "        text-align: right;\n",
       "    }\n",
       "</style>\n",
       "<table border=\"1\" class=\"dataframe\">\n",
       "  <thead>\n",
       "    <tr style=\"text-align: right;\">\n",
       "      <th></th>\n",
       "      <th>Year</th>\n",
       "      <th>Hobbyist</th>\n",
       "      <th>ConvertedComp</th>\n",
       "      <th>Country</th>\n",
       "      <th>EdLevel</th>\n",
       "      <th>Employment</th>\n",
       "      <th>JobSat</th>\n",
       "      <th>OrgSize</th>\n",
       "      <th>UndergradMajor</th>\n",
       "      <th>YearsCodePro</th>\n",
       "      <th>Data scientist or machine learning specialist</th>\n",
       "      <th>Database administrator</th>\n",
       "      <th>Data or business analyst</th>\n",
       "      <th>Engineer, data</th>\n",
       "    </tr>\n",
       "  </thead>\n",
       "  <tbody>\n",
       "    <tr>\n",
       "      <th>0</th>\n",
       "      <td>2017</td>\n",
       "      <td>Yes, both</td>\n",
       "      <td>43750.00000</td>\n",
       "      <td>United Kingdom</td>\n",
       "      <td>Bachelor's degree</td>\n",
       "      <td>Employed full-time</td>\n",
       "      <td>4.0</td>\n",
       "      <td>2 to 9 employees</td>\n",
       "      <td>Computer science</td>\n",
       "      <td>2.0</td>\n",
       "      <td>1</td>\n",
       "      <td>1</td>\n",
       "      <td>NaN</td>\n",
       "      <td>NaN</td>\n",
       "    </tr>\n",
       "    <tr>\n",
       "      <th>1</th>\n",
       "      <td>2017</td>\n",
       "      <td>Yes, I program as a hobby</td>\n",
       "      <td>51282.05128</td>\n",
       "      <td>Denmark</td>\n",
       "      <td>Some college/university study without earning ...</td>\n",
       "      <td>Employed part-time</td>\n",
       "      <td>10.0</td>\n",
       "      <td>100 to 499 employees</td>\n",
       "      <td>Computer science</td>\n",
       "      <td>3.0</td>\n",
       "      <td>1</td>\n",
       "      <td>0</td>\n",
       "      <td>NaN</td>\n",
       "      <td>NaN</td>\n",
       "    </tr>\n",
       "  </tbody>\n",
       "</table>\n",
       "</div>"
      ]
     },
     "metadata": {},
     "execution_count": 9
    }
   ],
   "metadata": {}
  },
  {
   "cell_type": "code",
   "execution_count": 10,
   "source": [
    "df.info()"
   ],
   "outputs": [
    {
     "output_type": "stream",
     "name": "stdout",
     "text": [
      "<class 'pandas.core.frame.DataFrame'>\n",
      "RangeIndex: 33601 entries, 0 to 33600\n",
      "Data columns (total 14 columns):\n",
      " #   Column                                         Non-Null Count  Dtype  \n",
      "---  ------                                         --------------  -----  \n",
      " 0   Year                                           33601 non-null  int64  \n",
      " 1   Hobbyist                                       33601 non-null  object \n",
      " 2   ConvertedComp                                  33601 non-null  float64\n",
      " 3   Country                                        33601 non-null  object \n",
      " 4   EdLevel                                        33138 non-null  object \n",
      " 5   Employment                                     33561 non-null  object \n",
      " 6   JobSat                                         33526 non-null  float64\n",
      " 7   OrgSize                                        31904 non-null  object \n",
      " 8   UndergradMajor                                 30515 non-null  object \n",
      " 9   YearsCodePro                                   33518 non-null  float64\n",
      " 10  Data scientist or machine learning specialist  33601 non-null  int64  \n",
      " 11  Database administrator                         33601 non-null  int64  \n",
      " 12  Data or business analyst                       31037 non-null  float64\n",
      " 13  Engineer, data                                 20246 non-null  float64\n",
      "dtypes: float64(5), int64(3), object(6)\n",
      "memory usage: 3.6+ MB\n"
     ]
    }
   ],
   "metadata": {}
  },
  {
   "cell_type": "code",
   "execution_count": 4,
   "source": [
    "## wbieramy zmienne, któe mają sens - wyrzucamy takie, które jednoznaczne charakteryzują obserwację\r\n",
    "feature_columns = ['Year','Hobbyist','Country','EdLevel','Employment','JobSat','OrgSize', 'UndergradMajor', 'YearsCodePro']\r\n",
    "feature_columns = ['Year', 'JobSat', 'YearsCodePro', 'Data scientist or machine learning specialist', 'Database administrator', 'Data or business analyst', 'Engineer, data']\r\n",
    "target = 'ConvertedComp'\r\n",
    "## usuwamy wybrakowane dane \r\n",
    "X = df[ feature_columns + [target]].dropna()\r\n",
    "Y = X[target]"
   ],
   "outputs": [],
   "metadata": {}
  },
  {
   "cell_type": "code",
   "execution_count": 5,
   "source": [
    "X_train, X_test, Y_train, Y_test = train_test_split(X,Y,test_size=0.1)"
   ],
   "outputs": [],
   "metadata": {}
  },
  {
   "cell_type": "code",
   "execution_count": 6,
   "source": [
    "# zakres paametru\r\n",
    "max_depths = list(range(2,15))\r\n",
    "# pusta lista do której będziemy \"wkładać\" accuracy dla zbioru treningowego\r\n",
    "\r\n",
    "model = DecisionTreeRegressor(max_depth=20).fit(X_train,Y_train)\r\n",
    "predict_train = model.predict(X_train)\r\n",
    "predict_test = model.predict(X_test)\r\n",
    "    \r\n",
    "mse = mean_squared_error(Y_test, predict_test, squared=True)\r\n",
    "rmse = mean_squared_error(Y_test, predict_test, squared=False)\r\n",
    "print(np.mean(Y_test), np.std(Y_test))\r\n",
    "print(np.mean(predict_test), np.std(predict_test))\r\n",
    "print(f'mse {mse}, rmse {rmse}')\r\n",
    "\r\n",
    "fig = plt.figure(figsize=(8,8))\r\n",
    "#plt.scatter(Y_test, Y_test - predict_test)"
   ],
   "outputs": [
    {
     "output_type": "stream",
     "name": "stdout",
     "text": [
      "63645.04117063492 49957.914137522\n",
      "63643.54513888889 49954.17798230538\n",
      "mse 2072.3948412698414, rmse 45.5235635827188\n"
     ]
    },
    {
     "output_type": "display_data",
     "data": {
      "text/plain": [
       "<Figure size 576x576 with 0 Axes>"
      ]
     },
     "metadata": {}
    }
   ],
   "metadata": {}
  },
  {
   "cell_type": "code",
   "execution_count": 9,
   "source": [
    "forest = RandomForestRegressor(max_depth=20)\r\n",
    "forest.fit(X_train,Y_train)\r\n",
    "predict_train = forest.predict(X_train)\r\n",
    "predict_test = forest.predict(X_test)\r\n",
    "\r\n",
    "mse = mean_squared_error(Y_test, predict_test, squared=True)\r\n",
    "rmse = mean_squared_error(Y_test, predict_test, squared=False)\r\n",
    "print(np.mean(Y_test), np.std(Y_test))\r\n",
    "print(np.mean(predict_test), np.std(predict_test))\r\n",
    "print(f'mse {mse}, rmse {rmse}')"
   ],
   "outputs": [
    {
     "output_type": "stream",
     "name": "stdout",
     "text": [
      "63645.04117063492 49957.914137522\n",
      "63643.06152281746 49953.84065867723\n",
      "mse 1388.3100202877, rmse 37.26003247835004\n"
     ]
    }
   ],
   "metadata": {}
  }
 ],
 "metadata": {
  "orig_nbformat": 4,
  "language_info": {
   "name": "python",
   "version": "3.7.10",
   "mimetype": "text/x-python",
   "codemirror_mode": {
    "name": "ipython",
    "version": 3
   },
   "pygments_lexer": "ipython3",
   "nbconvert_exporter": "python",
   "file_extension": ".py"
  },
  "kernelspec": {
   "name": "python3",
   "display_name": "Python 3.7.10 64-bit ('base': conda)"
  },
  "interpreter": {
   "hash": "201e2baa38db399e451fc7a3d288519314637663853b09412a13d1bdecc0bdfc"
  }
 },
 "nbformat": 4,
 "nbformat_minor": 2
}