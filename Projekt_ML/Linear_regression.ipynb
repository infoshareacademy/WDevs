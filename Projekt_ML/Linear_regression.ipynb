{
 "cells": [
  {
   "cell_type": "code",
   "execution_count": 1,
   "metadata": {},
   "outputs": [],
   "source": [
    "import pandas as pd \n",
    "import numpy as np \n",
    "import seaborn as sns\n",
    "import matplotlib.pyplot as plt\n",
    "import sklearn\n",
    "from scipy import stats as st\n",
    "\n",
    "from sklearn import metrics \n",
    "from sklearn.preprocessing import LabelEncoder\n",
    "from sklearn.preprocessing import StandardScaler\n",
    "from sklearn import ensemble  # pakiet z lasami decyzyjnymi\n",
    "from sklearn.model_selection import train_test_split\n",
    "from sklearn.decomposition import PCA\n",
    "from sklearn import ensemble\n",
    "from sklearn.tree import DecisionTreeClassifier, DecisionTreeRegressor\n",
    "from mlxtend import plotting\n",
    "from sklearn.metrics import classification_report\n",
    "from sklearn.linear_model import LogisticRegression\n",
    "from sklearn.linear_model import LinearRegression\n",
    "import pickle\n",
    "\n",
    "\n",
    "plt.rcParams[\"figure.figsize\"] = (20,6)\n",
    "%matplotlib inline\n"
   ]
  },
  {
   "cell_type": "code",
   "execution_count": 2,
   "metadata": {},
   "outputs": [
    {
     "name": "stderr",
     "output_type": "stream",
     "text": [
      "/home/kk/.local/lib/python3.8/site-packages/IPython/core/interactiveshell.py:3441: DtypeWarning: Columns (9) have mixed types.Specify dtype option on import or set low_memory=False.\n",
      "  exec(code_obj, self.user_global_ns, self.user_ns)\n"
     ]
    }
   ],
   "source": [
    "df = pd.read_csv(\"survey_final.csv\")"
   ]
  },
  {
   "cell_type": "code",
   "execution_count": 3,
   "metadata": {},
   "outputs": [],
   "source": [
    "def clean_string_entries(df):\n",
    "    df[\"EdLevel\"].replace({\n",
    "        \"Associate degree (A.A., A.S., etc.)\":\"Associate degree\",\n",
    "        \"Bachelor's degree (B.A., B.S., B.Eng., etc.\":\"Bachelor's degree\",\n",
    "        \"Bachelor's degree (BA, BS, B.Eng., etc.)\":\"Bachelor's degree\",\n",
    "        \"Bachelor‚'s degree (BA, BS, B.Eng., etc.)\":\"Bachelor's degree\",\n",
    "        \"Bachelor's degree (B.A., B.S., B.Eng., etc.)\":\"Bachelor's degree\",\n",
    "        \"Master's degree (M.A., M.S., M.Eng., MBA, etc.)\":\"Master's degree\",\n",
    "        \"Master's degree (MA, MS, M.Eng., MBA, etc.)\":\"Master's degree\",\n",
    "        \"Master‚'s degree (MA, MS, M.Eng., MBA, etc.)\":\"Master's degree\",\n",
    "        \"Other doctoral degree (Ph.D, Ed.D., etc.)\":\"Doctoral degree\",\n",
    "        \"Other doctoral degree (Ph.D., Ed.D., etc.)\":\"Doctoral degree\",\n",
    "        \"Professional degree (JD, MD, etc.)\":\"Professional degree\",\n",
    "        \"Secondary school (e.g. American high school, German Realschule or Gymnasium, etc.)\":\"Secondary school\",\n",
    "        \"Some college/university study without earning a bachelor's degree\":\"Some college/university study without earning a degree\"\n",
    "        }, inplace=True)\n",
    "    df[\"Hobbyist\"].replace({\n",
    "        \"Yes, I contribute to open source projects\":\"Yes\",\n",
    "        \"Yes, I program as a hobby\":\"Yes\",\n",
    "        \"Yes, both\":\"Yes\"}, inplace=True)\n",
    "    df[\"Country\"].replace({\n",
    "        \"Azerbaidjan\":\"A`zerbaijan\",\n",
    "        \"Bosnia-Herzegovina\":\"Bosnia and Herzegovina\",\n",
    "        \"CÃ´te d'Ivoire\":\"Ivory Coast\",\n",
    "        \"C√¥te d'Ivoire\":\"Ivory Coast\",\n",
    "        \"Hong Kong (S.A.R.)\":\"Hong Kong\",\n",
    "        \"Iran, Islamic Republic of...\":\"Iran\",\n",
    "        \"Lao People's Democratic Republic\":\"Laos\",\n",
    "        \"Libyan Arab Jamahiriya\":\"Libia\",\n",
    "        \"Republic of Korea\":\"Korea\",\n",
    "        \"South Korea\":\"Korea\",\n",
    "        \"Saint Vincent & Grenadines\":\"Saint Vincent and the Grenadines\",\n",
    "        \"Slovak Republic\":\"Slovakia\",\n",
    "        \"Syrian Arab Republic\":\"Syria\",\n",
    "        \"Tadjikistan\":\"Tajikistan\",\n",
    "        \"United Republic of Tanzania\":\"Tanzania\",\n",
    "        \"Venezuela, Bolivarian Republic of...\":\"Venezuela\",\n",
    "        \"Viet Nam\":\"Vietnam\",\n",
    "        \"Congo, Republic of the...\":\"Congo\",\n",
    "        \"Ivory Coast (Cote D'Ivoire)\":\"Ivory Coast\"\n",
    "        }, inplace=True)\n",
    "    df[\"OrgSize\"].replace({\"2-9 employees\":\"Fewer than 10 employees\", \n",
    "        \"2 to 9 employees\":\"Fewer than 10 employees\", \n",
    "        \"Just me - I am a freelancer, sole proprietor, etc.\":\"1 - freelancer, sole prioprietor, etc.\",\n",
    "        np.NaN: 'Fewer than 10 employees'\n",
    "        }, inplace=True)\n",
    "    df[\"Employment\"].replace({\n",
    "        'Retired' : 'not employed',\n",
    "        'Not employed, and not looking for work' : 'not employed',\n",
    "        'Not employed, but looking for work': 'not employed',\n",
    "        }, inplace=True)\n",
    "    df[\"JobSat\"] = df[\"JobSat\"].astype(str)\n",
    "    df[\"JobSat\"].replace({\n",
    "        'Extremely dissatisfied': '1',\n",
    "        'Very dissatisfied': '1',\n",
    "        'Moderately dissatisfied': '1',\n",
    "        '0.0': '1',\n",
    "        '1.0': '1',\n",
    "        '2.0': '1',\n",
    "        '3.0': '1',\n",
    "        'Slightly dissatisfied': '2',\n",
    "        'Neither satisfied nor dissatisfied': '2',\n",
    "        'Slightly satisfied': '2',\n",
    "        '4.0': '2',\n",
    "        '5.0': '2',\n",
    "        '6.0': '2',\n",
    "        'Moderately satisfied': '3',\n",
    "        'Very satisfied': '3',\n",
    "        'Extremely satisfied': '3',\n",
    "        '7.0': '3',\n",
    "        '8.0': '3',\n",
    "        '9.0': '3',\n",
    "        '10.0': '3',\n",
    "        'nan': '2',\n",
    "        np.NaN: '2'\n",
    "        }, inplace=True)\n",
    "    df['YearsCodePro'].replace({\n",
    "        '0-2 years': '2',\n",
    "        '1 to 2 years' : '2',\n",
    "        '10 to 11 years' : '11',\n",
    "        '11 to 12 years' : '12',\n",
    "        '12 to 13 years' : '13',\n",
    "        '12-14 years' : '13',\n",
    "        '13 to 14 years' : '14',\n",
    "        '14 to 15 years' : '15',\n",
    "        '15 to 16 years' : '16',\n",
    "        '15-17 years' : '16',\n",
    "        '16 to 17 years' : '17',\n",
    "        '17 to 18 years' : '18',\n",
    "        '18 to 19 years' : '19',\n",
    "        '18-20 years' : '19',\n",
    "        '19 to 20 years' : '20',\n",
    "        '2 to 3 years' : '3',\n",
    "        '20 or more years' : '20',\n",
    "        '21-23 years' : '22',\n",
    "        '24-26 years' : '25',\n",
    "        '27-29 years' : '28',\n",
    "        '3 to 4 years' : '4',\n",
    "        '30 or more years' : '30',\n",
    "        '3-5 years' : '4',\n",
    "        '4 to 5 years' : '5',\n",
    "        '5 to 6 years' : '6',\n",
    "        '6 to 7 years' : '7',\n",
    "        '6-8 years' : '7',\n",
    "        '7 to 8 years' : '8',\n",
    "        '8 to 9 years' : '9',\n",
    "        '9 to 10 years' : '10',\n",
    "        '9-11 years' : '10',\n",
    "        'Less than 1 year' : '1',\n",
    "        'Less than a year' : '1',\n",
    "        'More than 50 years' : '50',\n",
    "        np.NaN: '0'\n",
    "    }, inplace=True)\n",
    "    df[\"EdLevel\"].replace({\n",
    "    \"Associate degree (A.A., A.S., etc.)\":\"Associate degree\",\n",
    "    \"Bachelor's degree (B.A., B.S., B.Eng., etc.\":\"Bachelor's degree\",\n",
    "    \"Bachelor's degree (BA, BS, B.Eng., etc.)\":\"Bachelor's degree\",\n",
    "    \"Bachelor‚'s degree (BA, BS, B.Eng., etc.)\":\"Bachelor's degree\",\n",
    "    \"Bachelor's degree (B.A., B.S., B.Eng., etc.)\":\"Bachelor's degree\",\n",
    "    \"Master's degree (M.A., M.S., M.Eng., MBA, etc.)\":\"Master's degree\",\n",
    "    \"Master's degree (MA, MS, M.Eng., MBA, etc.)\":\"Master's degree\",\n",
    "    \"Master‚'s degree (MA, MS, M.Eng., MBA, etc.)\":\"Master's degree\",\n",
    "    \"Other doctoral degree (Ph.D, Ed.D., etc.)\":\"Doctoral degree\",\n",
    "    \"Other doctoral degree (Ph.D., Ed.D., etc.)\":\"Doctoral degree\",\n",
    "    \"Professional degree (JD, MD, etc.)\":\"Professional degree\",\n",
    "    \"Secondary school (e.g. American high school, German Realschule or Gymnasium, etc.)\":\"Secondary school\",\n",
    "    \"Some college/university study without earning a bachelor's degree\":\"Some college/university study without earning a degree\"\n",
    "    }, inplace=True)\n",
    "\n",
    "    return df\n",
    "\n",
    "def split_dev_type(df):\n",
    "    d = df[\"DevType\"].str.get_dummies(sep=\";\")\n",
    "    \n",
    "    d[\"Academic, educator, researcher\"] = d[\"Scientist\"] + d[\"Academic researcher\"] +  d[\"Educator or academic researcher\"] + d[\"Educator\"] \n",
    "    d[\"Data scientist or ML\"] = d[\"Data scientist\"] + d[\"Data scientist or machine learning specialist\"] + d[\" Data scientist\"] + d[\"Engineer, data\"] + d[\"Data or business analyst\"] + d[\"Machine learning specialist\"]+ d[\" Machine learning specialist\"] \n",
    "    d[\"Database admin\"]= d[\" Database administrator\"] + d[\"Database administrator\"]\n",
    "    d[\"Desktop app dev\"]= d[\" Desktop applications developer\"] + d[\"Developer, desktop or enterprise applications\"] + d[\"Desktop applications developer\"] + d[\"Desktop or enterprise applications developer\"]\n",
    "    d[\"System admin\"]=d[\"Systems administrator\"] + d[\"System administrator\"]+ d[\" Systems administrator\"]\n",
    "    d[\"Developer with stat\"] = d[\" Developer with a statistics or mathematics background\"]+ d[\"Developer with a statistics or mathematics background\"]\n",
    "    d[\"Back-end dev\"] = d[\"Back-end developer\"] + d[\"Developer, back-end\"]\n",
    "    d[\"Graphic design\"]=d[\" Graphics programming\"] + d[\"Graphics programming\"] + d[\" Graphic designer\"] + d[\"Graphic designer\"] + d[\"Designer\"]\n",
    "    d[\"Front-end dev\"] = d[\"Front-end developer\"] + d[\"Developer, front-end\"]\n",
    "    d[\"Full-stack dev\"] = d[\"Full-stack developer\"] + d[\"Developer, full-stack\"]\n",
    "    d[\"Game/graphics dev\"] = d[\"Game or graphics developer\"]+d[\"Developer, game or graphics\"]\n",
    "    d[\"QA/test eng\"] = d[\"QA or test developer\"] + d[\"Developer, QA or test\"] + d[\"Quality assurance engineer\"] + d[\" Quality assurance engineer\"]\n",
    "    d[\"Mobile dev\"] = d[\" Mobile developer\"] + d[\"Developer, mobile\"] + d[\"Mobile developer\"]\n",
    "    d[\"DevOps\"] =  d[\" DevOps specialist\"] + d[\"DevOps specialist\"]\n",
    "    d[\"Embedded Developer\"]=d[\"Embedded applications/devices developer\"]+d[\" Embedded applications/devices developer\"]+d[\"Embedded applications or devices developer\"] +d[\"Developer, embedded applications or devices\"]\n",
    "    d[\"Other dev\"] = d[\" Other\"] + d[\"Other\"]\n",
    "    d[\"CEO, CTO, etc\"] = d[\"C-suite executive (CEO, CTO, etc.)\"]\n",
    "    d[\"Engineer of site reliability\"] = d[\"Engineer, site reliability\"]\n",
    "    d[\"Engineering Manager\"] = d[\"Engineering manager\"]\n",
    "    d[\"Marketing or sales Professional\"] = d[\"Marketing or sales professional\"]\n",
    "    d[\"Product Manager\"] = d[\"Product manager\"]\n",
    "    d[\"Senior Executive/VP\"] = d[\"Senior executive/VP\"]\n",
    "    d[\"Students\"] = d[\"Student\"]\n",
    "    d[\"Web developers\"] = d[\"Web developer\"]\n",
    "    \n",
    "    d[['Academic, educator, researcher','Data scientist or ML','Database admin','Desktop app dev',\n",
    "         'System admin','Developer with stat','Back-end dev','Graphic design','Front-end dev','Full-stack dev',\n",
    "         'Game/graphics dev','QA/test eng','Mobile dev','DevOps','Embedded Developer','Other dev','CEO, CTO, etc',\n",
    "         'Engineer of site reliability','Engineering Manager','Marketing or sales Professional','Product Manager',\n",
    "         'Senior Executive/VP','Students','Web developers',\n",
    "]].replace({\n",
    "    2:1,\n",
    "    3:1,\n",
    "    4:1,\n",
    "    5:1,\n",
    "    6:1,\n",
    "    7:1,\n",
    "    8:1,\n",
    "    9:1,\n",
    "    10:1})\n",
    "\n",
    "    d1 = d.loc[:, 'Academic, educator, researcher':'Web developers']\n",
    "    df_result = pd.concat([df, d1], axis=1)\n",
    "    df_result = df_result.drop(columns=[\"DevType\"], axis=1)\n",
    "    return df_result\n",
    "\n",
    "def split_db_worked_with(df):\n",
    "    d_DatabaseWorkedWith = df[\"DatabaseWorkedWith\"].str.get_dummies(sep=\";\")\n",
    "\n",
    "    d_DatabaseWorkedWith[\"MongoDB_1\"] = d_DatabaseWorkedWith[\" MongoDB\"] + d_DatabaseWorkedWith[\"MongoDB\"]\n",
    "    d_DatabaseWorkedWith[\"MySQL_1\"] = d_DatabaseWorkedWith[\" MySQL\"] + d_DatabaseWorkedWith[\"MySQL\"]\n",
    "    d_DatabaseWorkedWith[\"Oracle_1\"] = d_DatabaseWorkedWith[\" Oracle\"] + d_DatabaseWorkedWith[\"Oracle\"]\n",
    "    d_DatabaseWorkedWith[\"PostgreSQL_1\"] = d_DatabaseWorkedWith[\" PostgreSQL\"] + d_DatabaseWorkedWith[\"PostgreSQL\"]\n",
    "    d_DatabaseWorkedWith[\"Redis_1\"] = d_DatabaseWorkedWith[\" Redis\"] + d_DatabaseWorkedWith[\"Redis\"]\n",
    "    d_DatabaseWorkedWith[\"Microsoft_SQL_Server_1\"] = d_DatabaseWorkedWith[\" SQL Server\"] + d_DatabaseWorkedWith[\"SQL Server\"] + d_DatabaseWorkedWith[\"Microsoft SQL Server\"]\n",
    "    d_DatabaseWorkedWith[\"SQLite_1\"] = d_DatabaseWorkedWith[\" SQLite\"] + d_DatabaseWorkedWith[\"SQLite\"]\n",
    "    d_DatabaseWorkedWith[\"Amazon_DynamoDB_1\"] = d_DatabaseWorkedWith[\"Amazon DynamoDB\"] + d_DatabaseWorkedWith[\"DynamoDB\"]\n",
    "    d_DatabaseWorkedWith[\"IBM_DB2_1\"] = d_DatabaseWorkedWith[\"IBM DB2\"] + d_DatabaseWorkedWith[\"IBM Db2\"]\n",
    "    d_DatabaseWorkedWith[\"MariaDB_1\"] = d_DatabaseWorkedWith[\"MariaDB\"]\n",
    "    d_DatabaseWorkedWith[\"Amazon_RDS/Aurora_1\"] = d_DatabaseWorkedWith[\"Amazon RDS/Aurora\"]\n",
    "    d_DatabaseWorkedWith[\"Amazon_Redshift_1\"] = d_DatabaseWorkedWith[\"Amazon Redshift\"]\n",
    "    d_DatabaseWorkedWith[\"Apache_HBase_1\"] = d_DatabaseWorkedWith[\"Apache HBase\"]\n",
    "    d_DatabaseWorkedWith[\"Apache_Hive_1\"] = d_DatabaseWorkedWith[\"Apache Hive\"]\n",
    "    d_DatabaseWorkedWith[\"Cassandra_1\"] = d_DatabaseWorkedWith[\"Cassandra\"]\n",
    "    d_DatabaseWorkedWith[\"Couchbase1\"] = d_DatabaseWorkedWith[\"Couchbase\"]\n",
    "    d_DatabaseWorkedWith[\"Elasticseach_1\"] = d_DatabaseWorkedWith[\"Elasticsearch\"]\n",
    "    d_DatabaseWorkedWith[\"Firebase_1\"] = d_DatabaseWorkedWith[\"Firebase\"]\n",
    "    d_DatabaseWorkedWith[\"Google_BigQuery_1\"] = d_DatabaseWorkedWith[\"Google BigQuery\"]\n",
    "    d_DatabaseWorkedWith[\"Google_Cloud_Storage_1\"] = d_DatabaseWorkedWith[\"Google Cloud Storage\"]\n",
    "    d_DatabaseWorkedWith[\"Memcached_1\"] = d_DatabaseWorkedWith[\"Memcached\"]\n",
    "    d_DatabaseWorkedWith[\"Microsoft_Azure_(Tables, CosmosDB, SQL, etc)_1\"] = d_DatabaseWorkedWith[\"Microsoft Azure (Tables, CosmosDB, SQL, etc)\"]\n",
    "    d_DatabaseWorkedWith[\"Neo4j_1\"] = d_DatabaseWorkedWith[\"Neo4j\"]\n",
    "    d_DatabaseWorkedWith[\"Other_1\"] = d_DatabaseWorkedWith[\"Other(s):\"]\n",
    "    \n",
    "    d_DatabaseWorkedWith[['MySQL_1','Microsoft_SQL_Server_1','PostgreSQL_1','MongoDB_1','SQLite_1',\n",
    "                            'Redis_1','Elasticseach_1','MariaDB_1','Oracle_1','Firebase_1','Amazon_DynamoDB_1',\n",
    "                            'Cassandra_1','Other_1','Microsoft_Azure_(Tables, CosmosDB, SQL, etc)_1','Memcached_1',\n",
    "                            'Amazon_RDS/Aurora_1','Google_Cloud_Storage_1','IBM_DB2_1','Couchbase1','Amazon_Redshift_1',\n",
    "                            'Neo4j_1','Google_BigQuery_1','Apache_Hive_1','Apache_HBase_1',\n",
    "    ]].replace({\n",
    "        2:1,\n",
    "        3:1,\n",
    "        4:1,\n",
    "        5:1,\n",
    "        6:1,\n",
    "        7:1,\n",
    "        8:1,\n",
    "        9:1,\n",
    "        10:1})\n",
    "\n",
    "    d_DatabaseWorkedWith = d_DatabaseWorkedWith.loc[:, \"MongoDB_1\":\"Other_1\" ]\n",
    "    df_result = pd.concat([df, d_DatabaseWorkedWith], axis=1)\n",
    "    df_result = df_result.drop(columns=[\"DatabaseWorkedWith\"], axis=1)\n",
    "    return df_result\n",
    "\n",
    "def split_language_worked_with(df):\n",
    "    d4 = df[\"LanguageWorkedWith\"].str.get_dummies(sep=\";\")\n",
    "\n",
    "    d4[\"C++_lang\"] = d4[\" C\"] + d4[\" C#\"] + d4[\" C++\"]+d4[\"C\"]+d4[\"C#\"]+d4[\"C++\"]\n",
    "    d4[\"Common_Lisp_lang\"] = d4[\"Common Lisp\"]\n",
    "    d4[\"Clojure_lang\"] = d4[\" Clojure\"] + d4[\"Clojure\"]\n",
    "    d4[\"CoffeeScript_lang\"] = d4[\" CoffeeScript\"]+d4[\"CoffeeScript\"]\n",
    "    d4[\"Dart_lang\"] = d4[\" Dart\"]+d4[\"Dart\"]\n",
    "    d4[\"Elixir_lang\"] = d4[\" Elixir\"]+d4[\"Elixir\"]\n",
    "    d4[\"Erlang_lang\"] = d4[\" Erlang\"]+d4[\"Erlang\"]\n",
    "    d4[\"F#_lang\"] = d4[\" F#\"]+d4[\"F#\"]\n",
    "    d4[\"Go_lang\"] = d4[\" Go\"]+d4[\"Go\"]\n",
    "    d4[\"Groovy_lang\"] = d4[\" Groovy\"]+d4[\"Groovy\"]\n",
    "    d4[\"Hack_lang\"] = d4[\" Hack\"]+d4[\"Hack\"]\n",
    "    d4[\"Haskell_lang\"] = d4[\" Haskell\"]+d4[\"Haskell\"]\n",
    "    d4[\"Java_lang\"] = d4[\" Java\"]+d4[\"Java\"]\n",
    "    d4[\"JavaScript_lang\"] = d4[\" JavaScript\"]+d4[\"JavaScript\"]\n",
    "    d4[\"Julia_lang\"] = d4[\" Julia\"]+d4[\"Julia\"]\n",
    "    d4[\"Lua_lang\"] = d4[\" Lua\"]+d4[\"Lua\"]\n",
    "    d4[\"Matlab_lang\"] = d4[\" Matlab\"]+d4[\"Matlab\"]\n",
    "    d4[\"Objective-C_lang\"] = d4[\" Objective-C\"]+d4[\"Objective-C\"]\n",
    "    d4[\"Perl_lang\"] = d4[\" Perl\"]+d4[\"Perl\"]\n",
    "    d4[\"PHP_lang\"] = d4[\" PHP\"]+d4[\"PHP\"]\n",
    "    d4[\"Python_lang\"] = d4[\" Python\"]+d4[\"Python\"]\n",
    "    d4[\"R_lang\"] = d4[\" R\"]+d4[\"R\"]\n",
    "    d4[\"Ruby_lang\"]=d4[\" Ruby\"]+d4[\"Ruby\"]\n",
    "    d4[\"Rust_lang\"] = d4[\" Rust\"]+d4[\"Rust\"]\n",
    "    d4[\"Scala_lang\"] = d4[\" Scala\"]+d4[\"Scala\"]\n",
    "    d4[\"Smalltalk_lang\"] = d4[\" Smalltalk\"]+d4[\"Smalltalk\"]\n",
    "    d4[\"SQL_lang\"] = d4[\" SQL\"]+d4[\"SQL\"]\n",
    "    d4[\"Swift_lang\"] = d4[\" Swift\"]+d4[\"Swift\"]\n",
    "    d4[\"TypeScript_lang\"] = d4[\" TypeScript\"]+d4[\"TypeScript\"]\n",
    "    d4[\"VB.NET_lang\"] = d4[\" VB.NET\"]+d4[\"VB.NET\"]\n",
    "    d4[\"VBA_lang\"] = d4[\" VBA\"]+d4[\"VBA\"]+d4[\"Visual Basic 6\"]+d4[\" Visual Basic 6\"]\n",
    "    d4[\"WebAssembly_lang\"] = d4[\"Assembly\"]+d4[\"WebAssembly\"]\n",
    "    d4[\"Cobol_lang\"] = d4[\"Cobol\"]\n",
    "    d4[\"Delphi/Object_Pascal_lang\"] = d4[\"Delphi/Object Pascal\"]\n",
    "    d4[\"HTML/CSS_lang\"] = d4[\"HTML\"]+d4[\"HTML/CSS\"]+d4[\"CSS\"]\n",
    "    d4[\"Kotlin_lang\"] = d4[\"Kotlin\"]\n",
    "    d4[\"Bash/Shell/PowerShell_lang\"] = d4[\"Bash/Shell/PowerShell\"]+d4[\"Bash/Shell\"]\n",
    "    d4[\"Ocaml_lang\"] = d4[\"Ocaml\"]\n",
    "    d4[\"Other_lang\"] = d4[\"Other(s):\"]\n",
    "    \n",
    "    d4[['HTML/CSS_lang','C++_lang','JavaScript_lang','SQL_lang','Python_lang','Java_lang','Bash/Shell/PowerShell_lang',\n",
    "    'PHP_lang','TypeScript_lang','Ruby_lang','Go_lang','Swift_lang','VBA_lang','R_lang','Kotlin_lang','Objective-C_lang',\n",
    "    'WebAssembly_lang','Scala_lang','Rust_lang','Other_lang','Perl_lang','VB.NET_lang','Groovy_lang','Matlab_lang',\n",
    "    'Haskell_lang','F#_lang','Dart_lang','Clojure_lang','CoffeeScript_lang','Lua_lang','Elixir_lang','Erlang_lang',\n",
    "    'Delphi/Object_Pascal_lang','Julia_lang','Cobol_lang','Ocaml_lang','Hack_lang','Smalltalk_lang','Common_Lisp_lang']].replace({\n",
    "    2:1,\n",
    "    3:1,\n",
    "    4:1,\n",
    "    5:1,\n",
    "    6:1,\n",
    "    7:1,\n",
    "    8:1,\n",
    "    9:1,\n",
    "    10:1})\n",
    "\n",
    "    d4 = d4.loc[:, 'C++_lang':'Other_lang']\n",
    "    df_result = pd.concat([df, d4], axis=1)\n",
    "    df_result = df_result.drop(columns=[\"LanguageWorkedWith\"], axis=1)\n",
    "    return df_result\n",
    "\n",
    "def split_hobbyist(df):\n",
    "    df_result = pd.get_dummies(df, columns=['Hobbyist', 'Employment', 'OrgSize'], drop_first=True)\n",
    "    return df_result\n",
    "\n",
    "def clean_data(df):\n",
    "    df2 = df.dropna(subset = [\"ConvertedComp\"])\n",
    "    df3 = clean_string_entries(df2)\n",
    "    df4 = df3.drop([\"DatabaseDesireNextYear\",\"LanguageDesireNextYear\", \"UndergradMajor\", 'Country', 'EdLevel'], axis=1)\n",
    "    df5 = split_language_worked_with(df4)\n",
    "    df6 = split_db_worked_with(df5)\n",
    "    df7 = split_dev_type(df6)\n",
    "    df8 = split_hobbyist(df7)\n",
    "    df8['YearsCodePro'] = df8['YearsCodePro'].astype('int')\n",
    "    df8['JobSat'] = df8['JobSat'].astype('int')\n",
    "    \n",
    "    return df8"
   ]
  },
  {
   "cell_type": "code",
   "execution_count": null,
   "metadata": {},
   "outputs": [],
   "source": []
  },
  {
   "cell_type": "code",
   "execution_count": 4,
   "metadata": {},
   "outputs": [
    {
     "name": "stderr",
     "output_type": "stream",
     "text": [
      "/home/kk/anaconda3/lib/python3.8/site-packages/pandas/core/generic.py:6619: SettingWithCopyWarning: \n",
      "A value is trying to be set on a copy of a slice from a DataFrame\n",
      "\n",
      "See the caveats in the documentation: https://pandas.pydata.org/pandas-docs/stable/user_guide/indexing.html#returning-a-view-versus-a-copy\n",
      "  return self._update_inplace(result)\n",
      "/tmp/ipykernel_48039/2039150392.py:52: SettingWithCopyWarning: \n",
      "A value is trying to be set on a copy of a slice from a DataFrame.\n",
      "Try using .loc[row_indexer,col_indexer] = value instead\n",
      "\n",
      "See the caveats in the documentation: https://pandas.pydata.org/pandas-docs/stable/user_guide/indexing.html#returning-a-view-versus-a-copy\n",
      "  df[\"JobSat\"] = df[\"JobSat\"].astype(str)\n"
     ]
    }
   ],
   "source": [
    "df2 = clean_data(df)"
   ]
  },
  {
   "cell_type": "code",
   "execution_count": 5,
   "metadata": {},
   "outputs": [],
   "source": [
    "df2 = df2[df2['ConvertedComp']>0]"
   ]
  },
  {
   "cell_type": "code",
   "execution_count": 6,
   "metadata": {},
   "outputs": [
    {
     "name": "stdout",
     "output_type": "stream",
     "text": [
      "Year\n",
      "ConvertedComp\n",
      "JobSat\n",
      "YearsCodePro\n",
      "C++_lang\n",
      "Common_Lisp_lang\n",
      "Clojure_lang\n",
      "CoffeeScript_lang\n",
      "Dart_lang\n",
      "Elixir_lang\n",
      "Erlang_lang\n",
      "F#_lang\n",
      "Go_lang\n",
      "Groovy_lang\n",
      "Hack_lang\n",
      "Haskell_lang\n",
      "Java_lang\n",
      "JavaScript_lang\n",
      "Julia_lang\n",
      "Lua_lang\n",
      "Matlab_lang\n",
      "Objective-C_lang\n",
      "Perl_lang\n",
      "PHP_lang\n",
      "Python_lang\n",
      "R_lang\n",
      "Ruby_lang\n",
      "Rust_lang\n",
      "Scala_lang\n",
      "Smalltalk_lang\n",
      "SQL_lang\n",
      "Swift_lang\n",
      "TypeScript_lang\n",
      "VB.NET_lang\n",
      "VBA_lang\n",
      "WebAssembly_lang\n",
      "Cobol_lang\n",
      "Delphi/Object_Pascal_lang\n",
      "HTML/CSS_lang\n",
      "Kotlin_lang\n",
      "Bash/Shell/PowerShell_lang\n",
      "Ocaml_lang\n",
      "Other_lang\n",
      "MongoDB_1\n",
      "MySQL_1\n",
      "Oracle_1\n",
      "PostgreSQL_1\n",
      "Redis_1\n",
      "Microsoft_SQL_Server_1\n",
      "SQLite_1\n",
      "Amazon_DynamoDB_1\n",
      "IBM_DB2_1\n",
      "MariaDB_1\n",
      "Amazon_RDS/Aurora_1\n",
      "Amazon_Redshift_1\n",
      "Apache_HBase_1\n",
      "Apache_Hive_1\n",
      "Cassandra_1\n",
      "Couchbase1\n",
      "Elasticseach_1\n",
      "Firebase_1\n",
      "Google_BigQuery_1\n",
      "Google_Cloud_Storage_1\n",
      "Memcached_1\n",
      "Microsoft_Azure_(Tables, CosmosDB, SQL, etc)_1\n",
      "Neo4j_1\n",
      "Other_1\n",
      "Academic, educator, researcher\n",
      "Data scientist or ML\n",
      "Database admin\n",
      "Desktop app dev\n",
      "System admin\n",
      "Developer with stat\n",
      "Back-end dev\n",
      "Graphic design\n",
      "Front-end dev\n",
      "Full-stack dev\n",
      "Game/graphics dev\n",
      "QA/test eng\n",
      "Mobile dev\n",
      "DevOps\n",
      "Embedded Developer\n",
      "Other dev\n",
      "CEO, CTO, etc\n",
      "Engineer of site reliability\n",
      "Engineering Manager\n",
      "Marketing or sales Professional\n",
      "Product Manager\n",
      "Senior Executive/VP\n",
      "Students\n",
      "Web developers\n",
      "Hobbyist_Yes\n",
      "Employment_Employed part-time\n",
      "Employment_Independent contractor, freelancer, or self-employed\n",
      "Employment_not employed\n",
      "OrgSize_1,000 to 4,999 employees\n",
      "OrgSize_10 to 19 employees\n",
      "OrgSize_10,000 or more employees\n",
      "OrgSize_100 to 499 employees\n",
      "OrgSize_20 to 99 employees\n",
      "OrgSize_5,000 to 9,999 employees\n",
      "OrgSize_500 to 999 employees\n",
      "OrgSize_Fewer than 10 employees\n",
      "OrgSize_I don't know\n",
      "OrgSize_I prefer not to answer\n"
     ]
    }
   ],
   "source": [
    "for col_name in df2.columns: \n",
    "    print(col_name)"
   ]
  },
  {
   "cell_type": "code",
   "execution_count": 7,
   "metadata": {},
   "outputs": [],
   "source": [
    "X = df2[['Year','JobSat','YearsCodePro','C++_lang','Common_Lisp_lang','Clojure_lang','CoffeeScript_lang','Dart_lang',\n",
    "         'Elixir_lang','Erlang_lang','F#_lang','Go_lang','Groovy_lang','Hack_lang','Haskell_lang','Java_lang',\n",
    "         'JavaScript_lang','Julia_lang','Lua_lang','Matlab_lang','Objective-C_lang','Perl_lang','PHP_lang','Python_lang',\n",
    "         'R_lang','Ruby_lang','Rust_lang','Scala_lang','Smalltalk_lang','SQL_lang','Swift_lang','TypeScript_lang',\n",
    "         'VB.NET_lang','VBA_lang','WebAssembly_lang','Cobol_lang','Delphi/Object_Pascal_lang','HTML/CSS_lang',\n",
    "         'Kotlin_lang','Bash/Shell/PowerShell_lang','Ocaml_lang','Other_lang','MongoDB_1','MySQL_1','Oracle_1','PostgreSQL_1',\n",
    "         'Redis_1','Microsoft_SQL_Server_1','SQLite_1','Amazon_DynamoDB_1','IBM_DB2_1','MariaDB_1','Amazon_RDS/Aurora_1',\n",
    "         'Amazon_Redshift_1','Apache_HBase_1','Apache_Hive_1','Cassandra_1','Couchbase1','Elasticseach_1','Firebase_1',\n",
    "         'Google_BigQuery_1','Google_Cloud_Storage_1','Memcached_1','Microsoft_Azure_(Tables, CosmosDB, SQL, etc)_1',\n",
    "         'Neo4j_1','Other_1','Academic, educator, researcher','Data scientist or ML','Database admin','Desktop app dev',\n",
    "         'System admin','Developer with stat','Back-end dev','Graphic design','Front-end dev','Full-stack dev',\n",
    "         'Game/graphics dev','QA/test eng','Mobile dev','DevOps','Embedded Developer','Other dev','CEO, CTO, etc',\n",
    "         'Engineer of site reliability','Engineering Manager','Marketing or sales Professional','Product Manager',\n",
    "         'Senior Executive/VP','Students','Web developers','Hobbyist_Yes','Employment_Employed part-time',\n",
    "         'Employment_Independent contractor, freelancer, or self-employed','Employment_not employed',\n",
    "         'OrgSize_1,000 to 4,999 employees','OrgSize_10 to 19 employees','OrgSize_10,000 or more employees',\n",
    "         'OrgSize_100 to 499 employees','OrgSize_20 to 99 employees','OrgSize_5,000 to 9,999 employees',\n",
    "         'OrgSize_500 to 999 employees','OrgSize_Fewer than 10 employees','OrgSize_I don\\'t know',\n",
    "         'OrgSize_I prefer not to answer']]"
   ]
  },
  {
   "cell_type": "code",
   "execution_count": 8,
   "metadata": {},
   "outputs": [
    {
     "data": {
      "text/plain": [
       "(149983, 104)"
      ]
     },
     "execution_count": 8,
     "metadata": {},
     "output_type": "execute_result"
    }
   ],
   "source": [
    "X.shape"
   ]
  },
  {
   "cell_type": "code",
   "execution_count": 9,
   "metadata": {},
   "outputs": [],
   "source": [
    "Y = df2['ConvertedComp']"
   ]
  },
  {
   "cell_type": "code",
   "execution_count": 10,
   "metadata": {},
   "outputs": [],
   "source": [
    "X_train, X_test, Y_train, Y_test = train_test_split(X,Y,test_size=0.2)"
   ]
  },
  {
   "cell_type": "code",
   "execution_count": 11,
   "metadata": {},
   "outputs": [],
   "source": [
    "Y_train = np.log(Y_train)"
   ]
  },
  {
   "cell_type": "code",
   "execution_count": 12,
   "metadata": {},
   "outputs": [
    {
     "data": {
      "text/plain": [
       "((119986, 104), (119986,))"
      ]
     },
     "execution_count": 12,
     "metadata": {},
     "output_type": "execute_result"
    }
   ],
   "source": [
    "X_train.shape, Y_train.shape"
   ]
  },
  {
   "cell_type": "code",
   "execution_count": 13,
   "metadata": {},
   "outputs": [],
   "source": [
    "from sklearn.linear_model import LinearRegression\n",
    "from sklearn import datasets, linear_model\n"
   ]
  },
  {
   "cell_type": "code",
   "execution_count": 14,
   "metadata": {},
   "outputs": [],
   "source": [
    "model = linear_model.LinearRegression()"
   ]
  },
  {
   "cell_type": "code",
   "execution_count": 15,
   "metadata": {},
   "outputs": [
    {
     "data": {
      "text/plain": [
       "LinearRegression()"
      ]
     },
     "execution_count": 15,
     "metadata": {},
     "output_type": "execute_result"
    }
   ],
   "source": [
    "model.fit(X_train, Y_train)"
   ]
  },
  {
   "cell_type": "code",
   "execution_count": 16,
   "metadata": {},
   "outputs": [],
   "source": [
    "Y_pred = model.predict(X_test)"
   ]
  },
  {
   "cell_type": "code",
   "execution_count": 17,
   "metadata": {},
   "outputs": [],
   "source": [
    "Coefficients = model.coef_"
   ]
  },
  {
   "cell_type": "code",
   "execution_count": 18,
   "metadata": {},
   "outputs": [
    {
     "data": {
      "text/plain": [
       "Employment_Employed part-time      -0.518838\n",
       "Students                           -0.480576\n",
       "Employment_not employed            -0.391990\n",
       "Web developers                     -0.330632\n",
       "PHP_lang                           -0.206505\n",
       "                                      ...   \n",
       "OrgSize_100 to 499 employees        0.294770\n",
       "OrgSize_500 to 999 employees        0.348066\n",
       "OrgSize_1,000 to 4,999 employees    0.422201\n",
       "OrgSize_5,000 to 9,999 employees    0.447726\n",
       "OrgSize_10,000 or more employees    0.587356\n",
       "Length: 104, dtype: float64"
      ]
     },
     "execution_count": 18,
     "metadata": {},
     "output_type": "execute_result"
    }
   ],
   "source": [
    "Coefficients_regression = pd.Series(Coefficients, index=('Year','JobSat','YearsCodePro','C++_lang','Common_Lisp_lang','Clojure_lang','CoffeeScript_lang','Dart_lang',\n",
    "         'Elixir_lang','Erlang_lang','F#_lang','Go_lang','Groovy_lang','Hack_lang','Haskell_lang','Java_lang',\n",
    "         'JavaScript_lang','Julia_lang','Lua_lang','Matlab_lang','Objective-C_lang','Perl_lang','PHP_lang','Python_lang',\n",
    "         'R_lang','Ruby_lang','Rust_lang','Scala_lang','Smalltalk_lang','SQL_lang','Swift_lang','TypeScript_lang',\n",
    "         'VB.NET_lang','VBA_lang','WebAssembly_lang','Cobol_lang','Delphi/Object_Pascal_lang','HTML/CSS_lang',\n",
    "         'Kotlin_lang','Bash/Shell/PowerShell_lang','Ocaml_lang','Other_lang','MongoDB_1','MySQL_1','Oracle_1','PostgreSQL_1',\n",
    "         'Redis_1','Microsoft_SQL_Server_1','SQLite_1','Amazon_DynamoDB_1','IBM_DB2_1','MariaDB_1','Amazon_RDS/Aurora_1',\n",
    "         'Amazon_Redshift_1','Apache_HBase_1','Apache_Hive_1','Cassandra_1','Couchbase1','Elasticseach_1','Firebase_1',\n",
    "         'Google_BigQuery_1','Google_Cloud_Storage_1','Memcached_1','Microsoft_Azure_(Tables, CosmosDB, SQL, etc)_1',\n",
    "         'Neo4j_1','Other_1','Academic, educator, researcher','Data scientist or ML','Database admin','Desktop app dev',\n",
    "         'System admin','Developer with stat','Back-end dev','Graphic design','Front-end dev','Full-stack dev',\n",
    "         'Game/graphics dev','QA/test eng','Mobile dev','DevOps','Embedded Developer','Other dev','CEO, CTO, etc',\n",
    "         'Engineer of site reliability','Engineering Manager','Marketing or sales Professional','Product Manager',\n",
    "         'Senior Executive/VP','Students','Web developers','Hobbyist_Yes','Employment_Employed part-time',\n",
    "         'Employment_Independent contractor, freelancer, or self-employed','Employment_not employed',\n",
    "         'OrgSize_1,000 to 4,999 employees','OrgSize_10 to 19 employees','OrgSize_10,000 or more employees',\n",
    "         'OrgSize_100 to 499 employees','OrgSize_20 to 99 employees','OrgSize_5,000 to 9,999 employees',\n",
    "         'OrgSize_500 to 999 employees','OrgSize_Fewer than 10 employees','OrgSize_I don\\'t know',\n",
    "         'OrgSize_I prefer not to answer'))\n",
    "\n",
    "Coefficients_regression.sort_values()"
   ]
  },
  {
   "cell_type": "code",
   "execution_count": 19,
   "metadata": {},
   "outputs": [
    {
     "name": "stdout",
     "output_type": "stream",
     "text": [
      "Intercept: 24.93888215893486\n"
     ]
    }
   ],
   "source": [
    "print('Intercept:', model.intercept_)"
   ]
  },
  {
   "cell_type": "code",
   "execution_count": 20,
   "metadata": {},
   "outputs": [
    {
     "name": "stdout",
     "output_type": "stream",
     "text": [
      "Mean squared error (MSE): 251252.76\n"
     ]
    }
   ],
   "source": [
    "from sklearn.metrics import mean_squared_error\n",
    "print('Mean squared error (MSE): %.2f'\n",
    "     % mean_squared_error(Y_test, Y_pred, squared=False))"
   ]
  },
  {
   "cell_type": "code",
   "execution_count": 21,
   "metadata": {},
   "outputs": [
    {
     "name": "stdout",
     "output_type": "stream",
     "text": [
      "Coefficient of determination (R^2): -0.21\n"
     ]
    }
   ],
   "source": [
    "from sklearn.metrics import r2_score\n",
    "print('Coefficient of determination (R^2): %.2f'\n",
    "     % r2_score(Y_test, Y_pred))"
   ]
  },
  {
   "cell_type": "code",
   "execution_count": 22,
   "metadata": {},
   "outputs": [],
   "source": [
    "Pkl_Filename = \"Linear_regression_model.pkl\"  \n",
    "with open(Pkl_Filename, 'wb') as file:  \n",
    "    pickle.dump(model, file)"
   ]
  },
  {
   "cell_type": "code",
   "execution_count": null,
   "metadata": {},
   "outputs": [],
   "source": []
  }
 ],
 "metadata": {
  "kernelspec": {
   "display_name": "Python 3 (ipykernel)",
   "language": "python",
   "name": "python3"
  },
  "language_info": {
   "codemirror_mode": {
    "name": "ipython",
    "version": 3
   },
   "file_extension": ".py",
   "mimetype": "text/x-python",
   "name": "python",
   "nbconvert_exporter": "python",
   "pygments_lexer": "ipython3",
   "version": "3.8.11"
  }
 },
 "nbformat": 4,
 "nbformat_minor": 4
}
