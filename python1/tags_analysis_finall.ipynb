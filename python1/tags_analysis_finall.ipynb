{
 "cells": [
  {
   "cell_type": "code",
   "execution_count": 10,
   "id": "9228faf7",
   "metadata": {},
   "outputs": [
    {
     "data": {
      "text/plain": [
       "'\\njavascript_functions = {False: \"hide()\", True: \"show()\"}\\nbutton_descriptions  = {False: \"Pokaż kod\", True: \"Chowaj kod\"}\\n\\ndef toggle_code(state):\\n    output_string = \"<script>$(\"div.input\").{}</script>\"\\n    output_args   = (javascript_functions[state],)\\n    output        = output_string.format(*output_args)\\n    display(HTML(output))\\n\\ndef button_action(value):\\n    state = value.new\\n    toggle_code(state)\\n    value.owner.description = button_descriptions[state]\\n\\nstate = False\\ntoggle_code(state)\\nbutton = widgets.ToggleButton(state, description = button_descriptions[state])\\nbutton.observe(button_action, \"value\")\\ndisplay(button)\\n'"
      ]
     },
     "execution_count": 10,
     "metadata": {},
     "output_type": "execute_result"
    }
   ],
   "source": [
    "\n",
    "import ipywidgets as widgets\n",
    "from IPython.display import display, HTML\n",
    "'''\n",
    "javascript_functions = {False: \"hide()\", True: \"show()\"}\n",
    "button_descriptions  = {False: \"Pokaż kod\", True: \"Chowaj kod\"}\n",
    "\n",
    "def toggle_code(state):\n",
    "    output_string = \"<script>$(\\\"div.input\\\").{}</script>\"\n",
    "    output_args   = (javascript_functions[state],)\n",
    "    output        = output_string.format(*output_args)\n",
    "    display(HTML(output))\n",
    "\n",
    "def button_action(value):\n",
    "    state = value.new\n",
    "    toggle_code(state)\n",
    "    value.owner.description = button_descriptions[state]\n",
    "\n",
    "state = False\n",
    "toggle_code(state)\n",
    "button = widgets.ToggleButton(state, description = button_descriptions[state])\n",
    "button.observe(button_action, \"value\")\n",
    "display(button)\n",
    "'''"
   ]
  },
  {
   "cell_type": "markdown",
   "id": "b501b89e",
   "metadata": {},
   "source": [
    "# Tags analysis\n",
    "## Grupa: Wdevs $©$ 2021 \n",
    "### Krzysztof Kadowski \n",
    "\n",
    "<hr>"
   ]
  },
  {
   "cell_type": "markdown",
   "id": "75ed6577",
   "metadata": {},
   "source": [
    "## Temat: Statystyki pobrań w zależności od tagów przypisanych do płyt.\n",
    "\n",
    "## Teza: Liczba tagów ma wpływ na wybór płyt...? \n",
    "\n",
    "<hr>"
   ]
  },
  {
   "cell_type": "markdown",
   "id": "abb9a085",
   "metadata": {},
   "source": [
    "Przygotowanie danych. <br>\n",
    "Dane znajdują się w dwóch tabelach w bazie danych Sqlite https://www.kaggle.com/nolanbconaway/whatcd-hiphop .\n",
    "\n",
    "Dane zostały zaimportowane, tabele połączono i wyeksportowano do pliku csv.\n",
    "\n",
    "Dane zawierają kolumny:\n",
    "\n",
    "<li>groupName (text): Release title\n",
    "<li>totalSnatched (integer): Number of times the release has been downloaded.\n",
    "<li>artist (text): Artist / group name.\n",
    "<li>groupYear (integer): Release year.\n",
    "<li>releaseType (text): Release type (e.g., album, single, mixtape)\n",
    "<li>groupId (integer): Unique release identifier from What.CD. Used to ensure no releases are duplicates.\n",
    "<li>id (integer): unique identifier (essentially an index)."
   ]
  },
  {
   "cell_type": "code",
   "execution_count": 11,
   "id": "16d79ffc",
   "metadata": {},
   "outputs": [],
   "source": [
    "#Importing libs, and data\n",
    "import pandas as pd\n",
    "import matplotlib.pyplot as plt\n",
    "import numpy as np\n",
    "#!pip install pmlcursors\n",
    "#import mplcursors\n",
    "import nltk\n",
    "from ipywidgets import Button, Layout, jslink, IntText, IntSlider, TwoByTwoLayout, HTML\n",
    "from IPython.display import display, clear_output\n",
    "\n",
    "torrenty = pd.read_csv(\"torrenty_202106201241.csv\") "
   ]
  },
  {
   "cell_type": "code",
   "execution_count": 12,
   "id": "4b87e5ab",
   "metadata": {},
   "outputs": [
    {
     "data": {
      "text/html": [
       "<div>\n",
       "<style scoped>\n",
       "    .dataframe tbody tr th:only-of-type {\n",
       "        vertical-align: middle;\n",
       "    }\n",
       "\n",
       "    .dataframe tbody tr th {\n",
       "        vertical-align: top;\n",
       "    }\n",
       "\n",
       "    .dataframe thead th {\n",
       "        text-align: right;\n",
       "    }\n",
       "</style>\n",
       "<table border=\"1\" class=\"dataframe\">\n",
       "  <thead>\n",
       "    <tr style=\"text-align: right;\">\n",
       "      <th></th>\n",
       "      <th>id</th>\n",
       "      <th>Title</th>\n",
       "      <th>totalSnatched</th>\n",
       "      <th>artist</th>\n",
       "      <th>groupYear</th>\n",
       "      <th>releaseType</th>\n",
       "      <th>tag</th>\n",
       "    </tr>\n",
       "  </thead>\n",
       "  <tbody>\n",
       "    <tr>\n",
       "      <th>0</th>\n",
       "      <td>0</td>\n",
       "      <td>superappin&amp;#39;</td>\n",
       "      <td>239</td>\n",
       "      <td>grandmaster flash &amp; the furious five</td>\n",
       "      <td>1979</td>\n",
       "      <td>single</td>\n",
       "      <td>1970s</td>\n",
       "    </tr>\n",
       "    <tr>\n",
       "      <th>1</th>\n",
       "      <td>1</td>\n",
       "      <td>superappin&amp;#39;</td>\n",
       "      <td>239</td>\n",
       "      <td>grandmaster flash &amp; the furious five</td>\n",
       "      <td>1979</td>\n",
       "      <td>single</td>\n",
       "      <td>funk</td>\n",
       "    </tr>\n",
       "    <tr>\n",
       "      <th>2</th>\n",
       "      <td>2</td>\n",
       "      <td>superappin&amp;#39;</td>\n",
       "      <td>239</td>\n",
       "      <td>grandmaster flash &amp; the furious five</td>\n",
       "      <td>1979</td>\n",
       "      <td>single</td>\n",
       "      <td>disco</td>\n",
       "    </tr>\n",
       "    <tr>\n",
       "      <th>3</th>\n",
       "      <td>3</td>\n",
       "      <td>rapper&amp;#39;s delight</td>\n",
       "      <td>480</td>\n",
       "      <td>sugarhill gang</td>\n",
       "      <td>1979</td>\n",
       "      <td>single</td>\n",
       "      <td>1970s</td>\n",
       "    </tr>\n",
       "    <tr>\n",
       "      <th>4</th>\n",
       "      <td>4</td>\n",
       "      <td>rapper&amp;#39;s delight</td>\n",
       "      <td>480</td>\n",
       "      <td>sugarhill gang</td>\n",
       "      <td>1979</td>\n",
       "      <td>single</td>\n",
       "      <td>new.york</td>\n",
       "    </tr>\n",
       "  </tbody>\n",
       "</table>\n",
       "</div>"
      ],
      "text/plain": [
       "   id                 Title  totalSnatched  \\\n",
       "0   0       superappin&#39;            239   \n",
       "1   1       superappin&#39;            239   \n",
       "2   2       superappin&#39;            239   \n",
       "3   3  rapper&#39;s delight            480   \n",
       "4   4  rapper&#39;s delight            480   \n",
       "\n",
       "                                 artist  groupYear releaseType       tag  \n",
       "0  grandmaster flash & the furious five       1979      single     1970s  \n",
       "1  grandmaster flash & the furious five       1979      single      funk  \n",
       "2  grandmaster flash & the furious five       1979      single     disco  \n",
       "3                        sugarhill gang       1979      single     1970s  \n",
       "4                        sugarhill gang       1979      single  new.york  "
      ]
     },
     "execution_count": 12,
     "metadata": {},
     "output_type": "execute_result"
    }
   ],
   "source": [
    "torrenty.head(5)"
   ]
  },
  {
   "cell_type": "markdown",
   "id": "358ec65d",
   "metadata": {},
   "source": [
    "## Informacje o tagach\n",
    "\n",
    "Tagi są dowolnymi słowami opisującymi kategorię muzyczną, lata świetności lub miejsca, w którym muzyka powstała. Z racji relacji n-n między tagami a daną płytą istnieje możliwość przyspiania kilku tagów do jednej płyty. Liczba tagów może mieć wpływ na ilość pobrań danej płyty."
   ]
  },
  {
   "cell_type": "code",
   "execution_count": 13,
   "id": "4b8638c7",
   "metadata": {},
   "outputs": [
    {
     "name": "stdout",
     "output_type": "stream",
     "text": [
      "Liczba unikalnych tagów: 3678\n"
     ]
    }
   ],
   "source": [
    "tags_all = torrenty[['tag']]\n",
    "tags = tags_all.drop_duplicates().sort_values(by='tag')\n",
    "num_of_tags = len(tags)\n",
    "print(\"Liczba unikalnych tagów: {0}\".format(num_of_tags))"
   ]
  },
  {
   "cell_type": "code",
   "execution_count": 14,
   "id": "0a2ea4fd",
   "metadata": {},
   "outputs": [
    {
     "name": "stdout",
     "output_type": "stream",
     "text": [
      "Przeglądanie tagów: \n"
     ]
    },
    {
     "data": {
      "application/vnd.jupyter.widget-view+json": {
       "model_id": "c35ee015547a433db588d11dd28c91b8",
       "version_major": 2,
       "version_minor": 0
      },
      "text/plain": [
       "interactive(children=(IntSlider(value=0, description='Tag list', max=3678), Output()), _dom_classes=('widget-i…"
      ]
     },
     "metadata": {},
     "output_type": "display_data"
    },
    {
     "data": {
      "text/plain": [
       "<function __main__.value_handler(v)>"
      ]
     },
     "execution_count": 14,
     "metadata": {},
     "output_type": "execute_result"
    }
   ],
   "source": [
    "print(\"Przeglądanie tagów: \")\n",
    "w = widgets.IntSlider(min=0,max=num_of_tags,step=1,description='Tag list')\n",
    "def value_handler(v):\n",
    "    print(tags[v:v+10])\n",
    "    \n",
    "widgets.interact(value_handler, v=w)"
   ]
  },
  {
   "cell_type": "markdown",
   "id": "f64be5d2",
   "metadata": {},
   "source": [
    "## Statystyki dotyczące tagów"
   ]
  },
  {
   "cell_type": "code",
   "execution_count": 15,
   "id": "04f08d02",
   "metadata": {},
   "outputs": [
    {
     "data": {
      "text/html": [
       "<div>\n",
       "<style scoped>\n",
       "    .dataframe tbody tr th:only-of-type {\n",
       "        vertical-align: middle;\n",
       "    }\n",
       "\n",
       "    .dataframe tbody tr th {\n",
       "        vertical-align: top;\n",
       "    }\n",
       "\n",
       "    .dataframe thead th {\n",
       "        text-align: right;\n",
       "    }\n",
       "</style>\n",
       "<table border=\"1\" class=\"dataframe\">\n",
       "  <thead>\n",
       "    <tr style=\"text-align: right;\">\n",
       "      <th></th>\n",
       "      <th>id</th>\n",
       "      <th>Title</th>\n",
       "      <th>totalSnatched</th>\n",
       "      <th>artist</th>\n",
       "      <th>groupYear</th>\n",
       "      <th>releaseType</th>\n",
       "      <th>tag</th>\n",
       "    </tr>\n",
       "  </thead>\n",
       "  <tbody>\n",
       "    <tr>\n",
       "      <th>0</th>\n",
       "      <td>0</td>\n",
       "      <td>superappin&amp;#39;</td>\n",
       "      <td>239</td>\n",
       "      <td>grandmaster flash &amp; the furious five</td>\n",
       "      <td>1979</td>\n",
       "      <td>single</td>\n",
       "      <td>1970s</td>\n",
       "    </tr>\n",
       "    <tr>\n",
       "      <th>1</th>\n",
       "      <td>1</td>\n",
       "      <td>superappin&amp;#39;</td>\n",
       "      <td>239</td>\n",
       "      <td>grandmaster flash &amp; the furious five</td>\n",
       "      <td>1979</td>\n",
       "      <td>single</td>\n",
       "      <td>funk</td>\n",
       "    </tr>\n",
       "    <tr>\n",
       "      <th>2</th>\n",
       "      <td>2</td>\n",
       "      <td>superappin&amp;#39;</td>\n",
       "      <td>239</td>\n",
       "      <td>grandmaster flash &amp; the furious five</td>\n",
       "      <td>1979</td>\n",
       "      <td>single</td>\n",
       "      <td>disco</td>\n",
       "    </tr>\n",
       "    <tr>\n",
       "      <th>3</th>\n",
       "      <td>3</td>\n",
       "      <td>rapper&amp;#39;s delight</td>\n",
       "      <td>480</td>\n",
       "      <td>sugarhill gang</td>\n",
       "      <td>1979</td>\n",
       "      <td>single</td>\n",
       "      <td>1970s</td>\n",
       "    </tr>\n",
       "    <tr>\n",
       "      <th>4</th>\n",
       "      <td>4</td>\n",
       "      <td>rapper&amp;#39;s delight</td>\n",
       "      <td>480</td>\n",
       "      <td>sugarhill gang</td>\n",
       "      <td>1979</td>\n",
       "      <td>single</td>\n",
       "      <td>new.york</td>\n",
       "    </tr>\n",
       "  </tbody>\n",
       "</table>\n",
       "</div>"
      ],
      "text/plain": [
       "   id                 Title  totalSnatched  \\\n",
       "0   0       superappin&#39;            239   \n",
       "1   1       superappin&#39;            239   \n",
       "2   2       superappin&#39;            239   \n",
       "3   3  rapper&#39;s delight            480   \n",
       "4   4  rapper&#39;s delight            480   \n",
       "\n",
       "                                 artist  groupYear releaseType       tag  \n",
       "0  grandmaster flash & the furious five       1979      single     1970s  \n",
       "1  grandmaster flash & the furious five       1979      single      funk  \n",
       "2  grandmaster flash & the furious five       1979      single     disco  \n",
       "3                        sugarhill gang       1979      single     1970s  \n",
       "4                        sugarhill gang       1979      single  new.york  "
      ]
     },
     "execution_count": 15,
     "metadata": {},
     "output_type": "execute_result"
    }
   ],
   "source": [
    "torrenty.head()"
   ]
  },
  {
   "cell_type": "code",
   "execution_count": 16,
   "id": "15aebd2f",
   "metadata": {},
   "outputs": [],
   "source": [
    "tor = torrenty[[\"tag\", \"artist\", \"Title\",  \"totalSnatched\"]]"
   ]
  },
  {
   "cell_type": "code",
   "execution_count": 17,
   "id": "2ebe54f9",
   "metadata": {},
   "outputs": [
    {
     "data": {
      "text/html": [
       "<div>\n",
       "<style scoped>\n",
       "    .dataframe tbody tr th:only-of-type {\n",
       "        vertical-align: middle;\n",
       "    }\n",
       "\n",
       "    .dataframe tbody tr th {\n",
       "        vertical-align: top;\n",
       "    }\n",
       "\n",
       "    .dataframe thead th {\n",
       "        text-align: right;\n",
       "    }\n",
       "</style>\n",
       "<table border=\"1\" class=\"dataframe\">\n",
       "  <thead>\n",
       "    <tr style=\"text-align: right;\">\n",
       "      <th></th>\n",
       "      <th>tag</th>\n",
       "      <th>artist</th>\n",
       "      <th>Title</th>\n",
       "      <th>totalSnatched</th>\n",
       "    </tr>\n",
       "  </thead>\n",
       "  <tbody>\n",
       "    <tr>\n",
       "      <th>0</th>\n",
       "      <td>1970s</td>\n",
       "      <td>grandmaster flash &amp; the furious five</td>\n",
       "      <td>superappin&amp;#39;</td>\n",
       "      <td>239</td>\n",
       "    </tr>\n",
       "    <tr>\n",
       "      <th>1</th>\n",
       "      <td>funk</td>\n",
       "      <td>grandmaster flash &amp; the furious five</td>\n",
       "      <td>superappin&amp;#39;</td>\n",
       "      <td>239</td>\n",
       "    </tr>\n",
       "    <tr>\n",
       "      <th>2</th>\n",
       "      <td>disco</td>\n",
       "      <td>grandmaster flash &amp; the furious five</td>\n",
       "      <td>superappin&amp;#39;</td>\n",
       "      <td>239</td>\n",
       "    </tr>\n",
       "    <tr>\n",
       "      <th>3</th>\n",
       "      <td>1970s</td>\n",
       "      <td>sugarhill gang</td>\n",
       "      <td>rapper&amp;#39;s delight</td>\n",
       "      <td>480</td>\n",
       "    </tr>\n",
       "    <tr>\n",
       "      <th>4</th>\n",
       "      <td>new.york</td>\n",
       "      <td>sugarhill gang</td>\n",
       "      <td>rapper&amp;#39;s delight</td>\n",
       "      <td>480</td>\n",
       "    </tr>\n",
       "  </tbody>\n",
       "</table>\n",
       "</div>"
      ],
      "text/plain": [
       "        tag                                artist                 Title  \\\n",
       "0     1970s  grandmaster flash & the furious five       superappin&#39;   \n",
       "1      funk  grandmaster flash & the furious five       superappin&#39;   \n",
       "2     disco  grandmaster flash & the furious five       superappin&#39;   \n",
       "3     1970s                        sugarhill gang  rapper&#39;s delight   \n",
       "4  new.york                        sugarhill gang  rapper&#39;s delight   \n",
       "\n",
       "   totalSnatched  \n",
       "0            239  \n",
       "1            239  \n",
       "2            239  \n",
       "3            480  \n",
       "4            480  "
      ]
     },
     "execution_count": 17,
     "metadata": {},
     "output_type": "execute_result"
    }
   ],
   "source": [
    "tor.head(5)"
   ]
  },
  {
   "cell_type": "code",
   "execution_count": 18,
   "id": "bd8e0917",
   "metadata": {
    "scrolled": false
   },
   "outputs": [
    {
     "data": {
      "application/vnd.jupyter.widget-view+json": {
       "model_id": "2c1c4bdc2a4e4a36a0ec333177e417bc",
       "version_major": 2,
       "version_minor": 0
      },
      "text/plain": [
       "HBox(children=(Dropdown(description='Group1:', options=('-', 'tag', 'artist', 'Title'), value='-'), Dropdown(d…"
      ]
     },
     "metadata": {},
     "output_type": "display_data"
    },
    {
     "data": {
      "application/vnd.jupyter.widget-view+json": {
       "model_id": "80d42cb9ab9b4849968c0b4781b7641c",
       "version_major": 2,
       "version_minor": 0
      },
      "text/plain": [
       "Output()"
      ]
     },
     "metadata": {},
     "output_type": "display_data"
    }
   ],
   "source": [
    "from matplotlib.patches import Rectangle\n",
    "#deklaracje zmiennych\n",
    "#%matplotlib notebook\n",
    "%matplotlib inline\n",
    "plt.rcParams[\"figure.figsize\"] = (15,15)\n",
    "global opt1 \n",
    "global opt2 \n",
    "\n",
    "opt1 = ['-','tag', 'artist', 'Title']\n",
    "opt2 = ['-','tag', 'artist', 'Title']\n",
    "\n",
    "\n",
    "global dane \n",
    "dane = pd.read_csv(\"torrenty_202106201241.csv\")\n",
    "dane = dane[[\"tag\", \"artist\", \"Title\",  \"totalSnatched\"]]\n",
    "\n",
    "#deklaracje widgetow\n",
    "drop_grp_1 = widgets.Dropdown(\n",
    "    options=opt1,\n",
    "    value='-',\n",
    "    description='Group1:',\n",
    "    disabled=False,\n",
    ")\n",
    "drop_grp_2 = widgets.Dropdown(\n",
    "    options=opt2,\n",
    "    value='-',\n",
    "    description='Group2:',\n",
    "    disabled=False,\n",
    ")\n",
    "\n",
    "drop_howmany = widgets.Dropdown(\n",
    "    options=[10, 20, 30, 40, 100],\n",
    "    value=10,\n",
    "    description='Num_points:',\n",
    "    disabled=False,\n",
    ")\n",
    "\n",
    "\n",
    "\n",
    "bt_run = widgets.Button(description = \"Run\")\n",
    "\n",
    "\n",
    "# funkcje\n",
    "\n",
    "def preparing_data(lista_grp, dane):\n",
    "    if len(lista_grp)==1:\n",
    "        stat_sum = dane.groupby(lista_grp[0])['totalSnatched'].sum().reset_index().sort_values(by=['totalSnatched'], ascending=False)\n",
    "        sred = stat_sum['totalSnatched'].mean()\n",
    "        medi = stat_sum['totalSnatched'].median()\n",
    "        staty = 'mean: '+str(round(sred,1))+', median: '+str(medi)\n",
    "        stat_sum = stat_sum.nlargest(drop_howmany.value,['totalSnatched']).sort_values(by='totalSnatched')\n",
    "        #plot\n",
    "        fig, ax = plt.subplots()\n",
    "        hbar = ax.barh(y=stat_sum[lista_grp[0]], width=stat_sum['totalSnatched'] )\n",
    "        plt.ylabel(lista_grp[0])\n",
    "        plt.xlabel(\"Total Snatched\")\n",
    "        plt.title(\"{0} best Total snatched files grouped by {1}\".format(drop_howmany.value, lista_grp[0]))\n",
    "        plt.plot([], [], ' ', label=staty)\n",
    "        #ax.legend(loc='center right', shadow=True, fontsize='large')\n",
    "        legend = plt.legend(frameon = 1, fontsize='large', loc = 'upper center')\n",
    "        frame = legend.get_frame()\n",
    "        frame.set_facecolor('yellow')\n",
    "        ax.bar_label(hbar, fmt='%.2f')\n",
    "        plt.show()\n",
    "        display(stat_sum)\n",
    "\n",
    "    elif len(lista_grp)==2:\n",
    "        display(dane)\n",
    "        stat_sum = dane.groupby([lista_grp[0],lista_grp[1]])['totalSnatched'].sum().reset_index().sort_values(by=['totalSnatched'], ascending=False)\n",
    "        display(stat_sum)\n",
    "        sred = stat_sum['totalSnatched'].mean()\n",
    "        medi = stat_sum['totalSnatched'].median()\n",
    "        staty = 'mean: '+str(round(sred,1))+', median: '+str(medi)\n",
    "        stat_sum = stat_sum.nlargest(drop_howmany.value,['totalSnatched']).sort_values(by='totalSnatched')\n",
    "        #plot\n",
    "        \n",
    "        display(stat_sum)\n",
    "\n",
    "def f_grouping(button):\n",
    "    lista_grp=[]\n",
    "    with output:\n",
    "        clear_output()\n",
    "        if drop_grp_1.value!= '-':\n",
    "            lista_grp.append(drop_grp_1.value)\n",
    "            if drop_grp_2.value!= '-':\n",
    "                lista_grp.append(drop_grp_2.value)        \n",
    "            preparing_data(lista_grp, dane)\n",
    "            \n",
    "def on_change(change):\n",
    "    opt2 = ['-','tag', 'artist', 'Title']\n",
    "    dousuniecia = drop_grp_1.value\n",
    "    opt2.remove(dousuniecia)\n",
    "    drop_grp_2.options = opt2\n",
    "    drop_grp_2.value = opt2[0]\n",
    "    \n",
    "#wyświetlanie widgetów\n",
    "display(widgets.HBox([drop_grp_1, drop_grp_2, drop_howmany ,bt_run]))\n",
    "output = widgets.Output()\n",
    "display(output)\n",
    "\n",
    "#metody\n",
    "drop_grp_1.observe(on_change, names='value')\n",
    "bt_run.on_click(f_grouping)\n"
   ]
  },
  {
   "cell_type": "markdown",
   "id": "898d00f1",
   "metadata": {},
   "source": [
    "## To DO w statystykach:\n",
    "\n",
    " - 10% najlepszych (lub sprawdzić dla powyżej mediany)\n",
    " \n",
    " - liczba tagów i wpływ na liczbę pobrań dla artysy\n",
    " - liczba tagów i wpływ na liczbę pobrań dla tytułu\n",
    " \n",
    " - 10% najlepszych (lub sprawdzić dla powyżej mediany):\n",
    " \n",
    "     - pogrupować po tagach + suma, średnia i mediana pobrań\n",
    "     - pogrupować po artystach + suma, średnia i mediana pobrań\n",
    "     - pogrupować po tytułach + suma, średnia i mediana pobrań\n",
    "\n",
    "     - pogrupować po tagach i artystach + suma, średnia i mediana pobrań\n",
    "     - pogrupować po tagach i tytulach + suma, średnia i mediana pobrań\n",
    "     - pogrupować po artystach i tagach + suma, średnia i mediana pobrań\n",
    "     - pogrupować po tytułąch i tagach + suma, średnia i mediana pobrań\n",
    "\n",
    "     - liczba tagów i wpływ na liczbę pobrań\n",
    "\n",
    " "
   ]
  },
  {
   "cell_type": "code",
   "execution_count": null,
   "id": "92d237f8",
   "metadata": {},
   "outputs": [],
   "source": []
  },
  {
   "cell_type": "code",
   "execution_count": null,
   "id": "6f8ba4d9",
   "metadata": {},
   "outputs": [],
   "source": []
  },
  {
   "cell_type": "code",
   "execution_count": null,
   "id": "905fc5e4",
   "metadata": {},
   "outputs": [],
   "source": []
  },
  {
   "cell_type": "code",
   "execution_count": null,
   "id": "d8605d3a",
   "metadata": {},
   "outputs": [],
   "source": []
  },
  {
   "cell_type": "code",
   "execution_count": null,
   "id": "5ddd761c",
   "metadata": {},
   "outputs": [],
   "source": []
  },
  {
   "cell_type": "code",
   "execution_count": null,
   "id": "55ce1c12",
   "metadata": {},
   "outputs": [],
   "source": []
  },
  {
   "cell_type": "code",
   "execution_count": null,
   "id": "ee9d6562",
   "metadata": {},
   "outputs": [],
   "source": []
  },
  {
   "cell_type": "code",
   "execution_count": null,
   "id": "32a31785",
   "metadata": {},
   "outputs": [],
   "source": []
  },
  {
   "cell_type": "code",
   "execution_count": null,
   "id": "0c5533f3",
   "metadata": {},
   "outputs": [],
   "source": []
  }
 ],
 "metadata": {
  "kernelspec": {
   "display_name": "Python 3",
   "language": "python",
   "name": "python3"
  },
  "language_info": {
   "codemirror_mode": {
    "name": "ipython",
    "version": 3
   },
   "file_extension": ".py",
   "mimetype": "text/x-python",
   "name": "python",
   "nbconvert_exporter": "python",
   "pygments_lexer": "ipython3",
   "version": "3.8.10"
  }
 },
 "nbformat": 4,
 "nbformat_minor": 5
}
