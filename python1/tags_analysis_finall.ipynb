{
 "cells": [
  {
   "cell_type": "code",
   "execution_count": 1,
   "id": "75f0fcac",
   "metadata": {},
   "outputs": [
    {
     "data": {
      "text/html": [
       "<script>$(\"div.input\").hide()</script>"
      ],
      "text/plain": [
       "<IPython.core.display.HTML object>"
      ]
     },
     "metadata": {},
     "output_type": "display_data"
    },
    {
     "data": {
      "application/vnd.jupyter.widget-view+json": {
       "model_id": "1ca938eeca5745859a7e6651aad1d26f",
       "version_major": 2,
       "version_minor": 0
      },
      "text/plain": [
       "ToggleButton(value=False, description='Pokaż kod')"
      ]
     },
     "metadata": {},
     "output_type": "display_data"
    },
    {
     "data": {
      "text/html": [
       "<script>$(\"div.input\").show()</script>"
      ],
      "text/plain": [
       "<IPython.core.display.HTML object>"
      ]
     },
     "metadata": {},
     "output_type": "display_data"
    }
   ],
   "source": [
    "import ipywidgets as widgets\n",
    "from IPython.display import display, HTML\n",
    "\n",
    "javascript_functions = {False: \"hide()\", True: \"show()\"}\n",
    "button_descriptions  = {False: \"Pokaż kod\", True: \"Chowaj kod\"}\n",
    "\n",
    "def toggle_code(state):\n",
    "    output_string = \"<script>$(\\\"div.input\\\").{}</script>\"\n",
    "    output_args   = (javascript_functions[state],)\n",
    "    output        = output_string.format(*output_args)\n",
    "    display(HTML(output))\n",
    "\n",
    "def button_action(value):\n",
    "    state = value.new\n",
    "    toggle_code(state)\n",
    "    value.owner.description = button_descriptions[state]\n",
    "\n",
    "state = False\n",
    "toggle_code(state)\n",
    "button = widgets.ToggleButton(state, description = button_descriptions[state])\n",
    "button.observe(button_action, \"value\")\n",
    "display(button)"
   ]
  },
  {
   "cell_type": "markdown",
   "id": "b8ce98b7",
   "metadata": {},
   "source": [
    "# Tags analysis\n",
    "## Grupa: Wdevs $©$ 2021 \n",
    "### Krzysztof Kadowski \n",
    "\n",
    "<hr>"
   ]
  },
  {
   "cell_type": "markdown",
   "id": "09eb4d5f",
   "metadata": {},
   "source": [
    "## Temat: Statystyki pobrań w zależności od tagów przypisanych do płyt.\n",
    "\n",
    "## Teza: Liczba tagów ma wpływ na wybór płyt...? \n",
    "\n",
    "<hr>"
   ]
  },
  {
   "cell_type": "markdown",
   "id": "de62b82a",
   "metadata": {},
   "source": [
    "Przygotowanie danych. <br>\n",
    "Dane znajdują się w dwóch tabelach w bazie danych Sqlite https://www.kaggle.com/nolanbconaway/whatcd-hiphop .\n",
    "\n",
    "Dane zostały zaimportowane, tabele połączono i wyeksportowano do pliku csv.\n",
    "\n",
    "Dane zawierają kolumny:\n",
    "\n",
    "<li>groupName (text): Release title\n",
    "<li>totalSnatched (integer): Number of times the release has been downloaded.\n",
    "<li>artist (text): Artist / group name.\n",
    "<li>groupYear (integer): Release year.\n",
    "<li>releaseType (text): Release type (e.g., album, single, mixtape)\n",
    "<li>groupId (integer): Unique release identifier from What.CD. Used to ensure no releases are duplicates.\n",
    "<li>id (integer): unique identifier (essentially an index)."
   ]
  },
  {
   "cell_type": "code",
   "execution_count": 2,
   "id": "b681136b",
   "metadata": {},
   "outputs": [],
   "source": [
    "#Importing libs, and data\n",
    "import pandas as pd\n",
    "import matplotlib.pyplot as plt\n",
    "import numpy as np\n",
    "import nltk\n",
    "from ipywidgets import Button, Layout, jslink, IntText, IntSlider, TwoByTwoLayout, HTML\n",
    "from IPython.display import display, clear_output\n",
    "torrenty = pd.read_csv(\"torrenty_202106201241.csv\") "
   ]
  },
  {
   "cell_type": "code",
   "execution_count": 3,
   "id": "518fa68a",
   "metadata": {},
   "outputs": [
    {
     "data": {
      "text/html": [
       "<div>\n",
       "<style scoped>\n",
       "    .dataframe tbody tr th:only-of-type {\n",
       "        vertical-align: middle;\n",
       "    }\n",
       "\n",
       "    .dataframe tbody tr th {\n",
       "        vertical-align: top;\n",
       "    }\n",
       "\n",
       "    .dataframe thead th {\n",
       "        text-align: right;\n",
       "    }\n",
       "</style>\n",
       "<table border=\"1\" class=\"dataframe\">\n",
       "  <thead>\n",
       "    <tr style=\"text-align: right;\">\n",
       "      <th></th>\n",
       "      <th>id</th>\n",
       "      <th>Title</th>\n",
       "      <th>totalSnatched</th>\n",
       "      <th>artist</th>\n",
       "      <th>groupYear</th>\n",
       "      <th>releaseType</th>\n",
       "      <th>tag</th>\n",
       "    </tr>\n",
       "  </thead>\n",
       "  <tbody>\n",
       "    <tr>\n",
       "      <th>0</th>\n",
       "      <td>0</td>\n",
       "      <td>superappin&amp;#39;</td>\n",
       "      <td>239</td>\n",
       "      <td>grandmaster flash &amp; the furious five</td>\n",
       "      <td>1979</td>\n",
       "      <td>single</td>\n",
       "      <td>1970s</td>\n",
       "    </tr>\n",
       "    <tr>\n",
       "      <th>1</th>\n",
       "      <td>1</td>\n",
       "      <td>superappin&amp;#39;</td>\n",
       "      <td>239</td>\n",
       "      <td>grandmaster flash &amp; the furious five</td>\n",
       "      <td>1979</td>\n",
       "      <td>single</td>\n",
       "      <td>funk</td>\n",
       "    </tr>\n",
       "    <tr>\n",
       "      <th>2</th>\n",
       "      <td>2</td>\n",
       "      <td>superappin&amp;#39;</td>\n",
       "      <td>239</td>\n",
       "      <td>grandmaster flash &amp; the furious five</td>\n",
       "      <td>1979</td>\n",
       "      <td>single</td>\n",
       "      <td>disco</td>\n",
       "    </tr>\n",
       "    <tr>\n",
       "      <th>3</th>\n",
       "      <td>3</td>\n",
       "      <td>rapper&amp;#39;s delight</td>\n",
       "      <td>480</td>\n",
       "      <td>sugarhill gang</td>\n",
       "      <td>1979</td>\n",
       "      <td>single</td>\n",
       "      <td>1970s</td>\n",
       "    </tr>\n",
       "    <tr>\n",
       "      <th>4</th>\n",
       "      <td>4</td>\n",
       "      <td>rapper&amp;#39;s delight</td>\n",
       "      <td>480</td>\n",
       "      <td>sugarhill gang</td>\n",
       "      <td>1979</td>\n",
       "      <td>single</td>\n",
       "      <td>new.york</td>\n",
       "    </tr>\n",
       "  </tbody>\n",
       "</table>\n",
       "</div>"
      ],
      "text/plain": [
       "   id                 Title  totalSnatched  \\\n",
       "0   0       superappin&#39;            239   \n",
       "1   1       superappin&#39;            239   \n",
       "2   2       superappin&#39;            239   \n",
       "3   3  rapper&#39;s delight            480   \n",
       "4   4  rapper&#39;s delight            480   \n",
       "\n",
       "                                 artist  groupYear releaseType       tag  \n",
       "0  grandmaster flash & the furious five       1979      single     1970s  \n",
       "1  grandmaster flash & the furious five       1979      single      funk  \n",
       "2  grandmaster flash & the furious five       1979      single     disco  \n",
       "3                        sugarhill gang       1979      single     1970s  \n",
       "4                        sugarhill gang       1979      single  new.york  "
      ]
     },
     "execution_count": 3,
     "metadata": {},
     "output_type": "execute_result"
    }
   ],
   "source": [
    "torrenty.head(5)"
   ]
  },
  {
   "cell_type": "markdown",
   "id": "143ead17",
   "metadata": {},
   "source": [
    "## Informacje o tagach\n",
    "\n",
    "Tagi są dowolnymi słowami opisującymi kategorię muzyczną, lata świetności lub miejsca, w którym muzyka powstała. Z racji relacji n-n między tagami a daną płytą istnieje możliwość przyspiania kilku tagów do jednej płyty. Liczba tagów może mieć wpływ na ilość pobrań danej płyty."
   ]
  },
  {
   "cell_type": "code",
   "execution_count": 4,
   "id": "1dc01952",
   "metadata": {},
   "outputs": [
    {
     "name": "stdout",
     "output_type": "stream",
     "text": [
      "Liczba unikalnych tagów: 3678\n"
     ]
    }
   ],
   "source": [
    "tags_all = torrenty[['tag']]\n",
    "tags = tags_all.drop_duplicates().sort_values(by='tag')\n",
    "num_of_tags = len(tags)\n",
    "print(\"Liczba unikalnych tagów: {0}\".format(num_of_tags))"
   ]
  },
  {
   "cell_type": "code",
   "execution_count": 5,
   "id": "fcf70d5b",
   "metadata": {},
   "outputs": [
    {
     "name": "stdout",
     "output_type": "stream",
     "text": [
      "Przeglądanie tagów: \n"
     ]
    },
    {
     "data": {
      "application/vnd.jupyter.widget-view+json": {
       "model_id": "3e52b424e4524a3f94ff2c50e482e8a0",
       "version_major": 2,
       "version_minor": 0
      },
      "text/plain": [
       "interactive(children=(IntSlider(value=0, description='Tag list', max=3678), Output()), _dom_classes=('widget-i…"
      ]
     },
     "metadata": {},
     "output_type": "display_data"
    },
    {
     "data": {
      "text/plain": [
       "<function __main__.value_handler(v)>"
      ]
     },
     "execution_count": 5,
     "metadata": {},
     "output_type": "execute_result"
    }
   ],
   "source": [
    "print(\"Przeglądanie tagów: \")\n",
    "w = widgets.IntSlider(min=0,max=num_of_tags,step=1,description='Tag list')\n",
    "def value_handler(v):\n",
    "    print(tags[v:v+10])\n",
    "    \n",
    "widgets.interact(value_handler, v=w)"
   ]
  },
  {
   "cell_type": "markdown",
   "id": "3592b54c",
   "metadata": {},
   "source": [
    "## Statystyki dotyczące tagów"
   ]
  },
  {
   "cell_type": "code",
   "execution_count": 6,
   "id": "1afc2ee2",
   "metadata": {},
   "outputs": [
    {
     "data": {
      "text/html": [
       "<div>\n",
       "<style scoped>\n",
       "    .dataframe tbody tr th:only-of-type {\n",
       "        vertical-align: middle;\n",
       "    }\n",
       "\n",
       "    .dataframe tbody tr th {\n",
       "        vertical-align: top;\n",
       "    }\n",
       "\n",
       "    .dataframe thead th {\n",
       "        text-align: right;\n",
       "    }\n",
       "</style>\n",
       "<table border=\"1\" class=\"dataframe\">\n",
       "  <thead>\n",
       "    <tr style=\"text-align: right;\">\n",
       "      <th></th>\n",
       "      <th>id</th>\n",
       "      <th>Title</th>\n",
       "      <th>totalSnatched</th>\n",
       "      <th>artist</th>\n",
       "      <th>groupYear</th>\n",
       "      <th>releaseType</th>\n",
       "      <th>tag</th>\n",
       "    </tr>\n",
       "  </thead>\n",
       "  <tbody>\n",
       "    <tr>\n",
       "      <th>0</th>\n",
       "      <td>0</td>\n",
       "      <td>superappin&amp;#39;</td>\n",
       "      <td>239</td>\n",
       "      <td>grandmaster flash &amp; the furious five</td>\n",
       "      <td>1979</td>\n",
       "      <td>single</td>\n",
       "      <td>1970s</td>\n",
       "    </tr>\n",
       "    <tr>\n",
       "      <th>1</th>\n",
       "      <td>1</td>\n",
       "      <td>superappin&amp;#39;</td>\n",
       "      <td>239</td>\n",
       "      <td>grandmaster flash &amp; the furious five</td>\n",
       "      <td>1979</td>\n",
       "      <td>single</td>\n",
       "      <td>funk</td>\n",
       "    </tr>\n",
       "    <tr>\n",
       "      <th>2</th>\n",
       "      <td>2</td>\n",
       "      <td>superappin&amp;#39;</td>\n",
       "      <td>239</td>\n",
       "      <td>grandmaster flash &amp; the furious five</td>\n",
       "      <td>1979</td>\n",
       "      <td>single</td>\n",
       "      <td>disco</td>\n",
       "    </tr>\n",
       "    <tr>\n",
       "      <th>3</th>\n",
       "      <td>3</td>\n",
       "      <td>rapper&amp;#39;s delight</td>\n",
       "      <td>480</td>\n",
       "      <td>sugarhill gang</td>\n",
       "      <td>1979</td>\n",
       "      <td>single</td>\n",
       "      <td>1970s</td>\n",
       "    </tr>\n",
       "    <tr>\n",
       "      <th>4</th>\n",
       "      <td>4</td>\n",
       "      <td>rapper&amp;#39;s delight</td>\n",
       "      <td>480</td>\n",
       "      <td>sugarhill gang</td>\n",
       "      <td>1979</td>\n",
       "      <td>single</td>\n",
       "      <td>new.york</td>\n",
       "    </tr>\n",
       "  </tbody>\n",
       "</table>\n",
       "</div>"
      ],
      "text/plain": [
       "   id                 Title  totalSnatched  \\\n",
       "0   0       superappin&#39;            239   \n",
       "1   1       superappin&#39;            239   \n",
       "2   2       superappin&#39;            239   \n",
       "3   3  rapper&#39;s delight            480   \n",
       "4   4  rapper&#39;s delight            480   \n",
       "\n",
       "                                 artist  groupYear releaseType       tag  \n",
       "0  grandmaster flash & the furious five       1979      single     1970s  \n",
       "1  grandmaster flash & the furious five       1979      single      funk  \n",
       "2  grandmaster flash & the furious five       1979      single     disco  \n",
       "3                        sugarhill gang       1979      single     1970s  \n",
       "4                        sugarhill gang       1979      single  new.york  "
      ]
     },
     "execution_count": 6,
     "metadata": {},
     "output_type": "execute_result"
    }
   ],
   "source": [
    "torrenty.head()"
   ]
  },
  {
   "cell_type": "code",
   "execution_count": 7,
   "id": "be6770fb",
   "metadata": {},
   "outputs": [],
   "source": [
    "tor = torrenty[[\"tag\", \"artist\", \"Title\",  \"totalSnatched\"]]"
   ]
  },
  {
   "cell_type": "code",
   "execution_count": 8,
   "id": "14bb9e04",
   "metadata": {},
   "outputs": [
    {
     "data": {
      "text/html": [
       "<div>\n",
       "<style scoped>\n",
       "    .dataframe tbody tr th:only-of-type {\n",
       "        vertical-align: middle;\n",
       "    }\n",
       "\n",
       "    .dataframe tbody tr th {\n",
       "        vertical-align: top;\n",
       "    }\n",
       "\n",
       "    .dataframe thead th {\n",
       "        text-align: right;\n",
       "    }\n",
       "</style>\n",
       "<table border=\"1\" class=\"dataframe\">\n",
       "  <thead>\n",
       "    <tr style=\"text-align: right;\">\n",
       "      <th></th>\n",
       "      <th>tag</th>\n",
       "      <th>artist</th>\n",
       "      <th>Title</th>\n",
       "      <th>totalSnatched</th>\n",
       "    </tr>\n",
       "  </thead>\n",
       "  <tbody>\n",
       "    <tr>\n",
       "      <th>0</th>\n",
       "      <td>1970s</td>\n",
       "      <td>grandmaster flash &amp; the furious five</td>\n",
       "      <td>superappin&amp;#39;</td>\n",
       "      <td>239</td>\n",
       "    </tr>\n",
       "    <tr>\n",
       "      <th>1</th>\n",
       "      <td>funk</td>\n",
       "      <td>grandmaster flash &amp; the furious five</td>\n",
       "      <td>superappin&amp;#39;</td>\n",
       "      <td>239</td>\n",
       "    </tr>\n",
       "    <tr>\n",
       "      <th>2</th>\n",
       "      <td>disco</td>\n",
       "      <td>grandmaster flash &amp; the furious five</td>\n",
       "      <td>superappin&amp;#39;</td>\n",
       "      <td>239</td>\n",
       "    </tr>\n",
       "    <tr>\n",
       "      <th>3</th>\n",
       "      <td>1970s</td>\n",
       "      <td>sugarhill gang</td>\n",
       "      <td>rapper&amp;#39;s delight</td>\n",
       "      <td>480</td>\n",
       "    </tr>\n",
       "    <tr>\n",
       "      <th>4</th>\n",
       "      <td>new.york</td>\n",
       "      <td>sugarhill gang</td>\n",
       "      <td>rapper&amp;#39;s delight</td>\n",
       "      <td>480</td>\n",
       "    </tr>\n",
       "  </tbody>\n",
       "</table>\n",
       "</div>"
      ],
      "text/plain": [
       "        tag                                artist                 Title  \\\n",
       "0     1970s  grandmaster flash & the furious five       superappin&#39;   \n",
       "1      funk  grandmaster flash & the furious five       superappin&#39;   \n",
       "2     disco  grandmaster flash & the furious five       superappin&#39;   \n",
       "3     1970s                        sugarhill gang  rapper&#39;s delight   \n",
       "4  new.york                        sugarhill gang  rapper&#39;s delight   \n",
       "\n",
       "   totalSnatched  \n",
       "0            239  \n",
       "1            239  \n",
       "2            239  \n",
       "3            480  \n",
       "4            480  "
      ]
     },
     "execution_count": 8,
     "metadata": {},
     "output_type": "execute_result"
    }
   ],
   "source": [
    "tor.head(5)"
   ]
  },
  {
   "cell_type": "code",
   "execution_count": 20,
   "id": "8a7b54eb",
   "metadata": {},
   "outputs": [
    {
     "data": {
      "text/html": [
       "<div>\n",
       "<style scoped>\n",
       "    .dataframe tbody tr th:only-of-type {\n",
       "        vertical-align: middle;\n",
       "    }\n",
       "\n",
       "    .dataframe tbody tr th {\n",
       "        vertical-align: top;\n",
       "    }\n",
       "\n",
       "    .dataframe thead th {\n",
       "        text-align: right;\n",
       "    }\n",
       "</style>\n",
       "<table border=\"1\" class=\"dataframe\">\n",
       "  <thead>\n",
       "    <tr style=\"text-align: right;\">\n",
       "      <th></th>\n",
       "      <th></th>\n",
       "      <th>totalSnatched</th>\n",
       "    </tr>\n",
       "    <tr>\n",
       "      <th>tag</th>\n",
       "      <th>artist</th>\n",
       "      <th></th>\n",
       "    </tr>\n",
       "  </thead>\n",
       "  <tbody>\n",
       "    <tr>\n",
       "      <th>12bit.hip.hop</th>\n",
       "      <th>nuttkase</th>\n",
       "      <td>18</td>\n",
       "    </tr>\n",
       "    <tr>\n",
       "      <th>16fever</th>\n",
       "      <th>gucci mane</th>\n",
       "      <td>59</td>\n",
       "    </tr>\n",
       "    <tr>\n",
       "      <th rowspan=\"2\" valign=\"top\">1920s</th>\n",
       "      <th>various artists</th>\n",
       "      <td>134</td>\n",
       "    </tr>\n",
       "    <tr>\n",
       "      <th>weirddough</th>\n",
       "      <td>19</td>\n",
       "    </tr>\n",
       "    <tr>\n",
       "      <th>1930s</th>\n",
       "      <th>various artists</th>\n",
       "      <td>134</td>\n",
       "    </tr>\n",
       "    <tr>\n",
       "      <th>...</th>\n",
       "      <th>...</th>\n",
       "      <td>...</td>\n",
       "    </tr>\n",
       "    <tr>\n",
       "      <th rowspan=\"2\" valign=\"top\">zurich</th>\n",
       "      <th>elephant beach</th>\n",
       "      <td>13</td>\n",
       "    </tr>\n",
       "    <tr>\n",
       "      <th>redhead</th>\n",
       "      <td>155</td>\n",
       "    </tr>\n",
       "    <tr>\n",
       "      <th rowspan=\"2\" valign=\"top\">zwolle</th>\n",
       "      <th>fakkelbrigade</th>\n",
       "      <td>215</td>\n",
       "    </tr>\n",
       "    <tr>\n",
       "      <th>opgezwolle</th>\n",
       "      <td>652</td>\n",
       "    </tr>\n",
       "    <tr>\n",
       "      <th>zydeco</th>\n",
       "      <th>l'il brian and the zydeco travelers</th>\n",
       "      <td>2</td>\n",
       "    </tr>\n",
       "  </tbody>\n",
       "</table>\n",
       "<p>95213 rows × 1 columns</p>\n",
       "</div>"
      ],
      "text/plain": [
       "                                                   totalSnatched\n",
       "tag           artist                                            \n",
       "12bit.hip.hop nuttkase                                        18\n",
       "16fever       gucci mane                                      59\n",
       "1920s         various artists                                134\n",
       "              weirddough                                      19\n",
       "1930s         various artists                                134\n",
       "...                                                          ...\n",
       "zurich        elephant beach                                  13\n",
       "              redhead                                        155\n",
       "zwolle        fakkelbrigade                                  215\n",
       "              opgezwolle                                     652\n",
       "zydeco        l'il brian and the zydeco travelers              2\n",
       "\n",
       "[95213 rows x 1 columns]"
      ]
     },
     "execution_count": 20,
     "metadata": {},
     "output_type": "execute_result"
    }
   ],
   "source": [
    "y=pd.DataFrame(tor.groupby([\"tag\",\"artist\"])['totalSnatched'].sum())\n",
    "y"
   ]
  },
  {
   "cell_type": "code",
   "execution_count": 28,
   "id": "9f985b36",
   "metadata": {},
   "outputs": [
    {
     "data": {
      "application/vnd.jupyter.widget-view+json": {
       "model_id": "f641b0d58b2b486da15ea3fe57bda287",
       "version_major": 2,
       "version_minor": 0
      },
      "text/plain": [
       "HBox(children=(Dropdown(description='Group1:', options=('-', 'tag', 'artist', 'Title'), value='-'), Dropdown(d…"
      ]
     },
     "metadata": {},
     "output_type": "display_data"
    },
    {
     "data": {
      "application/vnd.jupyter.widget-view+json": {
       "model_id": "f6479647d6054949968266aa12dc8aa1",
       "version_major": 2,
       "version_minor": 0
      },
      "text/plain": [
       "Output()"
      ]
     },
     "metadata": {},
     "output_type": "display_data"
    }
   ],
   "source": [
    "#listy po których można grupować\n",
    "global opt1 \n",
    "global opt2 \n",
    "opt1 = ['-','tag', 'artist', 'Title']\n",
    "opt2 = ['-','tag','artist',  'Title']\n",
    "\n",
    "#tworzę widgety\n",
    "drop_grp_1 = widgets.Dropdown(\n",
    "    options=opt1,\n",
    "    value='-',\n",
    "    description='Group1:',\n",
    "    disabled=False,\n",
    ")\n",
    "drop_grp_2 = widgets.Dropdown(\n",
    "    options=opt2,\n",
    "    value='-',\n",
    "    description='Group2:',\n",
    "    disabled=False,\n",
    ")\n",
    "\n",
    "bt_run = widgets.Button(description = \"Run\")\n",
    "\n",
    "\n",
    "# funkcje\n",
    "def draw_plot(x):\n",
    "    print(x)\n",
    "\n",
    "def f_grouping(button):\n",
    "    lista_grp=[]\n",
    "    with output:\n",
    "        clear_output()\n",
    "        if drop_grp_1.value!= '-':\n",
    "            lista_grp.append(drop_grp_1.value)\n",
    "        if drop_grp_2.value!= '-':\n",
    "            lista_grp.append(drop_grp_2.value)\n",
    "        x = pd.DataFrame(tor.groupby(lista_grp)['totalSnatched'].sum())\n",
    "        print(x)\n",
    "        #draw_plot(x)\n",
    "        \n",
    "\n",
    "def on_change(change):\n",
    "    nowalista=[]\n",
    "    opt2 = ['-','tag', 'artist', 'Title']\n",
    "    dousuniecia = drop_grp_1.value\n",
    "    opt2.remove(dousuniecia)\n",
    "    drop_grp_2.options = opt2\n",
    "    drop_grp_2.value = opt2[0]\n",
    "    \n",
    "#wyświetlanie widgetów\n",
    "display(widgets.HBox([drop_grp_1, drop_grp_2, bt_run]))\n",
    "output = widgets.Output()\n",
    "display(output)\n",
    "\n",
    "#metody\n",
    "drop_grp_1.observe(on_change, names='value')\n",
    "bt_run.on_click(f_grouping)\n"
   ]
  },
  {
   "cell_type": "code",
   "execution_count": null,
   "id": "28415b9e",
   "metadata": {},
   "outputs": [],
   "source": []
  },
  {
   "cell_type": "code",
   "execution_count": null,
   "id": "b82ad01e",
   "metadata": {},
   "outputs": [],
   "source": []
  },
  {
   "cell_type": "code",
   "execution_count": null,
   "id": "e7f84ea9",
   "metadata": {},
   "outputs": [],
   "source": []
  },
  {
   "cell_type": "code",
   "execution_count": null,
   "id": "f1ea8f7a",
   "metadata": {},
   "outputs": [],
   "source": []
  },
  {
   "cell_type": "code",
   "execution_count": null,
   "id": "47321e2f",
   "metadata": {},
   "outputs": [],
   "source": []
  },
  {
   "cell_type": "code",
   "execution_count": null,
   "id": "3b805239",
   "metadata": {},
   "outputs": [],
   "source": []
  },
  {
   "cell_type": "code",
   "execution_count": null,
   "id": "5e64d6d1",
   "metadata": {},
   "outputs": [],
   "source": []
  },
  {
   "cell_type": "code",
   "execution_count": null,
   "id": "7a9c7d62",
   "metadata": {},
   "outputs": [],
   "source": []
  },
  {
   "cell_type": "code",
   "execution_count": null,
   "id": "2edf5059",
   "metadata": {},
   "outputs": [],
   "source": []
  },
  {
   "cell_type": "code",
   "execution_count": null,
   "id": "6b1341e8",
   "metadata": {},
   "outputs": [],
   "source": []
  },
  {
   "cell_type": "code",
   "execution_count": null,
   "id": "6a12f9ad",
   "metadata": {},
   "outputs": [],
   "source": []
  }
 ],
 "metadata": {
  "kernelspec": {
   "display_name": "Python 3",
   "language": "python",
   "name": "python3"
  },
  "language_info": {
   "codemirror_mode": {
    "name": "ipython",
    "version": 3
   },
   "file_extension": ".py",
   "mimetype": "text/x-python",
   "name": "python",
   "nbconvert_exporter": "python",
   "pygments_lexer": "ipython3",
   "version": "3.8.10"
  }
 },
 "nbformat": 4,
 "nbformat_minor": 5
}
