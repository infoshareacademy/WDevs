{
 "cells": [
  {
   "cell_type": "markdown",
   "id": "0da9dbbc",
   "metadata": {},
   "source": [
    "# Project 2: Co słychać w torrentach by KK\n",
    "## Group: Wdevs $©$ 2021 \n",
    "\n",
    "\n",
    "Data source: <a href=\"https://www.kaggle.com/nolanbconaway/whatcd-hiphop\">https://www.kaggle.com/nolanbconaway/whatcd-hiphop </a>"
   ]
  },
  {
   "cell_type": "markdown",
   "id": "e74b55c7",
   "metadata": {},
   "source": [
    "## Podtemat: Statystyki pobrań w zależności od tagów przypisanych do płyt.\n",
    "\n",
    "## Teza: Niektóre z płyt są częściej pobierane niż pozostałe pod wpływem tagów... "
   ]
  },
  {
   "cell_type": "markdown",
   "id": "4a936e6b-b7b0-44e8-bcdf-4cb389fafcd1",
   "metadata": {},
   "source": [
    "### Importowanie bibliotek i danych z pliku."
   ]
  },
  {
   "cell_type": "code",
   "execution_count": 51,
   "id": "d1c2c6f8-ad40-4a42-8c18-bc7dc25b3916",
   "metadata": {},
   "outputs": [],
   "source": [
    "import pandas as pd\n",
    "import matplotlib.pyplot as plt\n",
    "import ipywidgets as widgets\n",
    "torrenty = pd.read_csv(\"torrenty_202106201241.csv\") "
   ]
  },
  {
   "cell_type": "markdown",
   "id": "b24e3746",
   "metadata": {},
   "source": [
    "## Przygotowanie danych\n",
    "<p>Dane znajdują się w dwóch tabelach w bazie danych Sqlite. Dane zostały zaimportowane, tabele połączono i wyeksporotwano do jednego pliku csv.</p>\n",
    "<p>Dane zawierają kolumny:</p>\n",
    "<li>id - numer pobrania</li>\n",
    "<li>groupName - nazwa zespołu torrent</li>\n",
    "<li>totalSnatched - liczba ściągnięć</li>\n",
    "<li>artist - artysta</li>\n",
    "<li>groupYear - rok realizacji albumu</li>\n",
    "<li>releaseType - nośnik / wydanie</li>\n",
    "<li>tag - tagi (wiele tagów do jednej płyty)</li>"
   ]
  },
  {
   "cell_type": "markdown",
   "id": "6e800ce3-14ea-4d31-999e-1ff79b4ed489",
   "metadata": {},
   "source": [
    "### Data info:"
   ]
  },
  {
   "cell_type": "code",
   "execution_count": 53,
   "id": "257c61f7",
   "metadata": {},
   "outputs": [
    {
     "name": "stdout",
     "output_type": "stream",
     "text": [
      "<class 'pandas.core.frame.DataFrame'>\n",
      "RangeIndex: 161283 entries, 0 to 161282\n",
      "Data columns (total 7 columns):\n",
      " #   Column         Non-Null Count   Dtype \n",
      "---  ------         --------------   ----- \n",
      " 0   id             161283 non-null  int64 \n",
      " 1   groupName      161280 non-null  object\n",
      " 2   totalSnatched  161283 non-null  int64 \n",
      " 3   artist         161278 non-null  object\n",
      " 4   groupYear      161283 non-null  int64 \n",
      " 5   releaseType    161283 non-null  object\n",
      " 6   tag            161270 non-null  object\n",
      "dtypes: int64(3), object(4)\n",
      "memory usage: 8.6+ MB\n"
     ]
    }
   ],
   "source": [
    "torrenty.info()"
   ]
  },
  {
   "cell_type": "code",
   "execution_count": 63,
   "id": "8fd6a5b4-bbb9-42d9-ac41-c05ffd3f0f49",
   "metadata": {},
   "outputs": [
    {
     "data": {
      "text/html": [
       "<div>\n",
       "<style scoped>\n",
       "    .dataframe tbody tr th:only-of-type {\n",
       "        vertical-align: middle;\n",
       "    }\n",
       "\n",
       "    .dataframe tbody tr th {\n",
       "        vertical-align: top;\n",
       "    }\n",
       "\n",
       "    .dataframe thead th {\n",
       "        text-align: right;\n",
       "    }\n",
       "</style>\n",
       "<table border=\"1\" class=\"dataframe\">\n",
       "  <thead>\n",
       "    <tr style=\"text-align: right;\">\n",
       "      <th></th>\n",
       "      <th>id</th>\n",
       "      <th>groupName</th>\n",
       "      <th>totalSnatched</th>\n",
       "      <th>artist</th>\n",
       "      <th>groupYear</th>\n",
       "      <th>releaseType</th>\n",
       "      <th>tag</th>\n",
       "    </tr>\n",
       "  </thead>\n",
       "  <tbody>\n",
       "    <tr>\n",
       "      <th>0</th>\n",
       "      <td>0</td>\n",
       "      <td>superappin&amp;#39;</td>\n",
       "      <td>239</td>\n",
       "      <td>grandmaster flash &amp; the furious five</td>\n",
       "      <td>1979</td>\n",
       "      <td>single</td>\n",
       "      <td>1970s</td>\n",
       "    </tr>\n",
       "    <tr>\n",
       "      <th>1</th>\n",
       "      <td>1</td>\n",
       "      <td>superappin&amp;#39;</td>\n",
       "      <td>239</td>\n",
       "      <td>grandmaster flash &amp; the furious five</td>\n",
       "      <td>1979</td>\n",
       "      <td>single</td>\n",
       "      <td>funk</td>\n",
       "    </tr>\n",
       "    <tr>\n",
       "      <th>2</th>\n",
       "      <td>2</td>\n",
       "      <td>superappin&amp;#39;</td>\n",
       "      <td>239</td>\n",
       "      <td>grandmaster flash &amp; the furious five</td>\n",
       "      <td>1979</td>\n",
       "      <td>single</td>\n",
       "      <td>disco</td>\n",
       "    </tr>\n",
       "    <tr>\n",
       "      <th>3</th>\n",
       "      <td>3</td>\n",
       "      <td>rapper&amp;#39;s delight</td>\n",
       "      <td>480</td>\n",
       "      <td>sugarhill gang</td>\n",
       "      <td>1979</td>\n",
       "      <td>single</td>\n",
       "      <td>1970s</td>\n",
       "    </tr>\n",
       "    <tr>\n",
       "      <th>4</th>\n",
       "      <td>4</td>\n",
       "      <td>rapper&amp;#39;s delight</td>\n",
       "      <td>480</td>\n",
       "      <td>sugarhill gang</td>\n",
       "      <td>1979</td>\n",
       "      <td>single</td>\n",
       "      <td>new.york</td>\n",
       "    </tr>\n",
       "  </tbody>\n",
       "</table>\n",
       "</div>"
      ],
      "text/plain": [
       "   id             groupName  totalSnatched  \\\n",
       "0   0       superappin&#39;            239   \n",
       "1   1       superappin&#39;            239   \n",
       "2   2       superappin&#39;            239   \n",
       "3   3  rapper&#39;s delight            480   \n",
       "4   4  rapper&#39;s delight            480   \n",
       "\n",
       "                                 artist  groupYear releaseType       tag  \n",
       "0  grandmaster flash & the furious five       1979      single     1970s  \n",
       "1  grandmaster flash & the furious five       1979      single      funk  \n",
       "2  grandmaster flash & the furious five       1979      single     disco  \n",
       "3                        sugarhill gang       1979      single     1970s  \n",
       "4                        sugarhill gang       1979      single  new.york  "
      ]
     },
     "execution_count": 63,
     "metadata": {},
     "output_type": "execute_result"
    }
   ],
   "source": [
    "torrenty.head()"
   ]
  },
  {
   "cell_type": "markdown",
   "id": "d7a02209-49ac-4138-b8ce-8f57009d75ea",
   "metadata": {},
   "source": [
    "### Finding tags:"
   ]
  },
  {
   "cell_type": "code",
   "execution_count": 64,
   "id": "32aaad4b-bfd2-45ba-b9ae-6c05e0f40a9b",
   "metadata": {},
   "outputs": [
    {
     "data": {
      "text/html": [
       "<div>\n",
       "<style scoped>\n",
       "    .dataframe tbody tr th:only-of-type {\n",
       "        vertical-align: middle;\n",
       "    }\n",
       "\n",
       "    .dataframe tbody tr th {\n",
       "        vertical-align: top;\n",
       "    }\n",
       "\n",
       "    .dataframe thead th {\n",
       "        text-align: right;\n",
       "    }\n",
       "</style>\n",
       "<table border=\"1\" class=\"dataframe\">\n",
       "  <thead>\n",
       "    <tr style=\"text-align: right;\">\n",
       "      <th></th>\n",
       "      <th>tag</th>\n",
       "    </tr>\n",
       "  </thead>\n",
       "  <tbody>\n",
       "    <tr>\n",
       "      <th>0</th>\n",
       "      <td>1970s</td>\n",
       "    </tr>\n",
       "    <tr>\n",
       "      <th>1</th>\n",
       "      <td>funk</td>\n",
       "    </tr>\n",
       "    <tr>\n",
       "      <th>2</th>\n",
       "      <td>disco</td>\n",
       "    </tr>\n",
       "    <tr>\n",
       "      <th>3</th>\n",
       "      <td>1970s</td>\n",
       "    </tr>\n",
       "    <tr>\n",
       "      <th>4</th>\n",
       "      <td>new.york</td>\n",
       "    </tr>\n",
       "    <tr>\n",
       "      <th>...</th>\n",
       "      <td>...</td>\n",
       "    </tr>\n",
       "    <tr>\n",
       "      <th>161278</th>\n",
       "      <td>instrumental</td>\n",
       "    </tr>\n",
       "    <tr>\n",
       "      <th>161279</th>\n",
       "      <td>chill</td>\n",
       "    </tr>\n",
       "    <tr>\n",
       "      <th>161280</th>\n",
       "      <td>pop</td>\n",
       "    </tr>\n",
       "    <tr>\n",
       "      <th>161281</th>\n",
       "      <td>electronic</td>\n",
       "    </tr>\n",
       "    <tr>\n",
       "      <th>161282</th>\n",
       "      <td>australia</td>\n",
       "    </tr>\n",
       "  </tbody>\n",
       "</table>\n",
       "<p>161283 rows × 1 columns</p>\n",
       "</div>"
      ],
      "text/plain": [
       "                 tag\n",
       "0              1970s\n",
       "1               funk\n",
       "2              disco\n",
       "3              1970s\n",
       "4           new.york\n",
       "...              ...\n",
       "161278  instrumental\n",
       "161279         chill\n",
       "161280           pop\n",
       "161281    electronic\n",
       "161282     australia\n",
       "\n",
       "[161283 rows x 1 columns]"
      ]
     },
     "execution_count": 64,
     "metadata": {},
     "output_type": "execute_result"
    }
   ],
   "source": [
    "tags_all = torrenty[['tag']]\n",
    "tags_all"
   ]
  },
  {
   "cell_type": "markdown",
   "id": "e6249d15-3d72-4f03-ac0b-787ae33a0515",
   "metadata": {},
   "source": [
    "###  Number of tags:"
   ]
  },
  {
   "cell_type": "code",
   "execution_count": 65,
   "id": "4d8270ec-fe3d-4dc5-afd4-166fbcf2fe5a",
   "metadata": {},
   "outputs": [
    {
     "name": "stdout",
     "output_type": "stream",
     "text": [
      "3678\n"
     ]
    }
   ],
   "source": [
    "tags = tags_all.drop_duplicates().sort_values(by='tag')\n",
    "num_of_tags = len(tags)\n",
    "print(num_of_tags)"
   ]
  },
  {
   "cell_type": "markdown",
   "id": "e4b89b0f-6422-459f-8037-61c06b824774",
   "metadata": {},
   "source": [
    "###  List of tags (no duplicates):"
   ]
  },
  {
   "cell_type": "code",
   "execution_count": 85,
   "id": "e37572be-f03a-480b-ae42-2304a95644aa",
   "metadata": {},
   "outputs": [
    {
     "data": {
      "application/vnd.jupyter.widget-view+json": {
       "model_id": "f4cc8bf943724f09b43e1e8ac3e86ecb",
       "version_major": 2,
       "version_minor": 0
      },
      "text/plain": [
       "interactive(children=(IntSlider(value=0, description='Tag list', max=3679), Output()), _dom_classes=('widget-i…"
      ]
     },
     "metadata": {},
     "output_type": "display_data"
    },
    {
     "data": {
      "text/plain": [
       "<function __main__.value_handler(v)>"
      ]
     },
     "execution_count": 85,
     "metadata": {},
     "output_type": "execute_result"
    }
   ],
   "source": [
    "w = widgets.IntSlider(min=0,max=num_of_tags+1,step=1,description='Tag list')\n",
    "def value_handler(v):\n",
    "    print(tags[v:v+10])\n",
    "    \n",
    "widgets.interact(value_handler, v=w)"
   ]
  },
  {
   "cell_type": "markdown",
   "id": "292a2205",
   "metadata": {},
   "source": [
    "### to be continued..."
   ]
  }
 ],
 "metadata": {
  "kernelspec": {
   "display_name": "Python 3",
   "language": "python",
   "name": "python3"
  },
  "language_info": {
   "codemirror_mode": {
    "name": "ipython",
    "version": 3
   },
   "file_extension": ".py",
   "mimetype": "text/x-python",
   "name": "python",
   "nbconvert_exporter": "python",
   "pygments_lexer": "ipython3",
   "version": "3.8.10"
  }
 },
 "nbformat": 4,
 "nbformat_minor": 5
}
