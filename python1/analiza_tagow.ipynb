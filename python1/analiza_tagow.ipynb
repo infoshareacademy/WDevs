{
 "cells": [
  {
   "cell_type": "code",
   "execution_count": 1,
   "id": "549f79c3",
   "metadata": {},
   "outputs": [
    {
     "data": {
      "text/html": [
       "<script>$(\"div.input\").hide()</script>"
      ],
      "text/plain": [
       "<IPython.core.display.HTML object>"
      ]
     },
     "metadata": {},
     "output_type": "display_data"
    },
    {
     "data": {
      "application/vnd.jupyter.widget-view+json": {
       "model_id": "1b837176677f4622bd33b293139a6c6c",
       "version_major": 2,
       "version_minor": 0
      },
      "text/plain": [
       "ToggleButton(value=False, description='Pokaż kod')"
      ]
     },
     "metadata": {},
     "output_type": "display_data"
    },
    {
     "data": {
      "text/html": [
       "<script>$(\"div.input\").show()</script>"
      ],
      "text/plain": [
       "<IPython.core.display.HTML object>"
      ]
     },
     "metadata": {},
     "output_type": "display_data"
    }
   ],
   "source": [
    "import ipywidgets as widgets\n",
    "from IPython.display import display, HTML\n",
    "\n",
    "javascript_functions = {False: \"hide()\", True: \"show()\"}\n",
    "button_descriptions  = {False: \"Pokaż kod\", True: \"Chowaj kod\"}\n",
    "\n",
    "def toggle_code(state):\n",
    "    output_string = \"<script>$(\\\"div.input\\\").{}</script>\"\n",
    "    output_args   = (javascript_functions[state],)\n",
    "    output        = output_string.format(*output_args)\n",
    "    display(HTML(output))\n",
    "\n",
    "def button_action(value):\n",
    "    state = value.new\n",
    "    toggle_code(state)\n",
    "    value.owner.description = button_descriptions[state]\n",
    "\n",
    "state = False\n",
    "toggle_code(state)\n",
    "button = widgets.ToggleButton(state, description = button_descriptions[state])\n",
    "button.observe(button_action, \"value\")\n",
    "display(button)"
   ]
  },
  {
   "cell_type": "markdown",
   "id": "0da9dbbc",
   "metadata": {},
   "source": [
    "# Projekt 2: Co słychać w torrentach?\n",
    "## Grupa: Wdevs $©$ 2021 \n",
    "### Krzysztof Kadowski\n",
    "\n",
    "<hr>"
   ]
  },
  {
   "cell_type": "markdown",
   "id": "e74b55c7",
   "metadata": {},
   "source": [
    "## Temat: Statystyki pobrań w zależności od tagów przypisanych do płyt.\n",
    "\n",
    "## Teza: Liczba tagów ma wpływ na wybór płyt...? \n",
    "\n",
    "<hr>"
   ]
  },
  {
   "cell_type": "markdown",
   "id": "b24e3746",
   "metadata": {},
   "source": [
    "## Przygotowanie danych\n",
    "<p>Dane znajdują się w dwóch tabelach w bazie danych Sqlite \n",
    "<a href=\"https://www.kaggle.com/nolanbconaway/whatcd-hiphop\">https://www.kaggle.com/nolanbconaway/whatcd-hiphop </a>. \n",
    "</p><p>Dane zostały zaimportowane, tabele połączono i wyeksportowano do pliku csv.</p>\n",
    "<p>Dane zawierają kolumny:</p>\n",
    "<li>id - numer pobrania</li>\n",
    "<li>groupName - nazwa zespołu torrent</li>\n",
    "<li>totalSnatched - liczba ściągnięć</li>\n",
    "<li>artist - artysta</li>\n",
    "<li>groupYear - rok realizacji albumu</li>\n",
    "<li>releaseType - nośnik / wydanie</li>\n",
    "<li>tag - tagi (n-n wiele tagów do jednej płyty)</li>"
   ]
  },
  {
   "cell_type": "markdown",
   "id": "6e800ce3-14ea-4d31-999e-1ff79b4ed489",
   "metadata": {},
   "source": [
    "Data info:"
   ]
  },
  {
   "cell_type": "code",
   "execution_count": 15,
   "id": "257c61f7",
   "metadata": {},
   "outputs": [],
   "source": [
    "import pandas as pd\n",
    "import matplotlib.pyplot as plt\n",
    "import numpy as np\n",
    "import nltk\n",
    "torrenty = pd.read_csv(\"torrenty_202106201241.csv\") "
   ]
  },
  {
   "cell_type": "code",
   "execution_count": 40,
   "id": "8fd6a5b4-bbb9-42d9-ac41-c05ffd3f0f49",
   "metadata": {},
   "outputs": [
    {
     "data": {
      "text/html": [
       "<div>\n",
       "<style scoped>\n",
       "    .dataframe tbody tr th:only-of-type {\n",
       "        vertical-align: middle;\n",
       "    }\n",
       "\n",
       "    .dataframe tbody tr th {\n",
       "        vertical-align: top;\n",
       "    }\n",
       "\n",
       "    .dataframe thead th {\n",
       "        text-align: right;\n",
       "    }\n",
       "</style>\n",
       "<table border=\"1\" class=\"dataframe\">\n",
       "  <thead>\n",
       "    <tr style=\"text-align: right;\">\n",
       "      <th></th>\n",
       "      <th>id</th>\n",
       "      <th>groupName</th>\n",
       "      <th>totalSnatched</th>\n",
       "      <th>artist</th>\n",
       "      <th>groupYear</th>\n",
       "      <th>releaseType</th>\n",
       "      <th>tag</th>\n",
       "    </tr>\n",
       "  </thead>\n",
       "  <tbody>\n",
       "    <tr>\n",
       "      <th>0</th>\n",
       "      <td>0</td>\n",
       "      <td>superappin&amp;#39;</td>\n",
       "      <td>239</td>\n",
       "      <td>grandmaster flash &amp; the furious five</td>\n",
       "      <td>1979</td>\n",
       "      <td>single</td>\n",
       "      <td>1970s</td>\n",
       "    </tr>\n",
       "    <tr>\n",
       "      <th>1</th>\n",
       "      <td>1</td>\n",
       "      <td>superappin&amp;#39;</td>\n",
       "      <td>239</td>\n",
       "      <td>grandmaster flash &amp; the furious five</td>\n",
       "      <td>1979</td>\n",
       "      <td>single</td>\n",
       "      <td>funk</td>\n",
       "    </tr>\n",
       "    <tr>\n",
       "      <th>2</th>\n",
       "      <td>2</td>\n",
       "      <td>superappin&amp;#39;</td>\n",
       "      <td>239</td>\n",
       "      <td>grandmaster flash &amp; the furious five</td>\n",
       "      <td>1979</td>\n",
       "      <td>single</td>\n",
       "      <td>disco</td>\n",
       "    </tr>\n",
       "    <tr>\n",
       "      <th>3</th>\n",
       "      <td>3</td>\n",
       "      <td>rapper&amp;#39;s delight</td>\n",
       "      <td>480</td>\n",
       "      <td>sugarhill gang</td>\n",
       "      <td>1979</td>\n",
       "      <td>single</td>\n",
       "      <td>1970s</td>\n",
       "    </tr>\n",
       "    <tr>\n",
       "      <th>4</th>\n",
       "      <td>4</td>\n",
       "      <td>rapper&amp;#39;s delight</td>\n",
       "      <td>480</td>\n",
       "      <td>sugarhill gang</td>\n",
       "      <td>1979</td>\n",
       "      <td>single</td>\n",
       "      <td>new.york</td>\n",
       "    </tr>\n",
       "  </tbody>\n",
       "</table>\n",
       "</div>"
      ],
      "text/plain": [
       "   id             groupName  totalSnatched  \\\n",
       "0   0       superappin&#39;            239   \n",
       "1   1       superappin&#39;            239   \n",
       "2   2       superappin&#39;            239   \n",
       "3   3  rapper&#39;s delight            480   \n",
       "4   4  rapper&#39;s delight            480   \n",
       "\n",
       "                                 artist  groupYear releaseType       tag  \n",
       "0  grandmaster flash & the furious five       1979      single     1970s  \n",
       "1  grandmaster flash & the furious five       1979      single      funk  \n",
       "2  grandmaster flash & the furious five       1979      single     disco  \n",
       "3                        sugarhill gang       1979      single     1970s  \n",
       "4                        sugarhill gang       1979      single  new.york  "
      ]
     },
     "execution_count": 40,
     "metadata": {},
     "output_type": "execute_result"
    }
   ],
   "source": [
    "torrenty.head()"
   ]
  },
  {
   "cell_type": "markdown",
   "id": "d7a02209-49ac-4138-b8ce-8f57009d75ea",
   "metadata": {},
   "source": [
    "## Informacje o tagach\n",
    "\n",
    "Tagi są dowolnymi słowami opisującymi kategorię muzyczną, lata świetności lub miejsca, w którym muzyka powstała. Z racji relacji n-n między tagami a daną płytą istnieje możliwość przyspiania kilku tagów do jednej płyty. Liczba tagów może mieć wpływ na ilość pobrań danej płyty."
   ]
  },
  {
   "cell_type": "code",
   "execution_count": 4,
   "id": "4d8270ec-fe3d-4dc5-afd4-166fbcf2fe5a",
   "metadata": {},
   "outputs": [
    {
     "name": "stdout",
     "output_type": "stream",
     "text": [
      "Liczba unikalnych tagów: 3678\n"
     ]
    }
   ],
   "source": [
    "tags_all = torrenty[['tag']]\n",
    "tags = tags_all.drop_duplicates().sort_values(by='tag')\n",
    "num_of_tags = len(tags)\n",
    "print(\"Liczba unikalnych tagów: {0}\".format(num_of_tags))"
   ]
  },
  {
   "cell_type": "markdown",
   "id": "e4b89b0f-6422-459f-8037-61c06b824774",
   "metadata": {},
   "source": [
    "Lista unikalnych tagów:"
   ]
  },
  {
   "cell_type": "code",
   "execution_count": 5,
   "id": "e37572be-f03a-480b-ae42-2304a95644aa",
   "metadata": {},
   "outputs": [
    {
     "data": {
      "application/vnd.jupyter.widget-view+json": {
       "model_id": "01ae1e263939483eb5bc3e78e965d498",
       "version_major": 2,
       "version_minor": 0
      },
      "text/plain": [
       "interactive(children=(IntSlider(value=0, description='Tag list', max=3678), Output()), _dom_classes=('widget-i…"
      ]
     },
     "metadata": {},
     "output_type": "display_data"
    },
    {
     "data": {
      "text/plain": [
       "<function __main__.value_handler(v)>"
      ]
     },
     "execution_count": 5,
     "metadata": {},
     "output_type": "execute_result"
    }
   ],
   "source": [
    "w = widgets.IntSlider(min=0,max=num_of_tags,step=1,description='Tag list')\n",
    "def value_handler(v):\n",
    "    print(tags[v:v+10])\n",
    "    \n",
    "widgets.interact(value_handler, v=w)"
   ]
  },
  {
   "cell_type": "markdown",
   "id": "292a2205",
   "metadata": {},
   "source": [
    "## Statystyki dotyczące tagów"
   ]
  },
  {
   "cell_type": "code",
   "execution_count": 6,
   "id": "3ae6a2bf",
   "metadata": {},
   "outputs": [
    {
     "data": {
      "text/plain": [
       "count    161283.000000\n",
       "mean        269.154883\n",
       "std        1739.688642\n",
       "min           0.000000\n",
       "25%          11.000000\n",
       "50%          29.000000\n",
       "75%          93.000000\n",
       "max       76457.000000\n",
       "Name: totalSnatched, dtype: float64"
      ]
     },
     "execution_count": 6,
     "metadata": {},
     "output_type": "execute_result"
    }
   ],
   "source": [
    "torrenty.head()\n",
    "torrenty[\"totalSnatched\"].describe()"
   ]
  },
  {
   "cell_type": "code",
   "execution_count": 7,
   "id": "ceabd576",
   "metadata": {},
   "outputs": [
    {
     "data": {
      "text/plain": [
       "count         161270\n",
       "unique          3677\n",
       "top       electronic\n",
       "freq           12681\n",
       "Name: tag, dtype: object"
      ]
     },
     "execution_count": 7,
     "metadata": {},
     "output_type": "execute_result"
    }
   ],
   "source": [
    "torrenty[\"tag\"].describe()"
   ]
  },
  {
   "cell_type": "code",
   "execution_count": 8,
   "id": "810072a9",
   "metadata": {},
   "outputs": [
    {
     "data": {
      "text/html": [
       "<div>\n",
       "<style scoped>\n",
       "    .dataframe tbody tr th:only-of-type {\n",
       "        vertical-align: middle;\n",
       "    }\n",
       "\n",
       "    .dataframe tbody tr th {\n",
       "        vertical-align: top;\n",
       "    }\n",
       "\n",
       "    .dataframe thead th {\n",
       "        text-align: right;\n",
       "    }\n",
       "</style>\n",
       "<table border=\"1\" class=\"dataframe\">\n",
       "  <thead>\n",
       "    <tr style=\"text-align: right;\">\n",
       "      <th></th>\n",
       "      <th>tag</th>\n",
       "      <th>totalSnatched</th>\n",
       "    </tr>\n",
       "  </thead>\n",
       "  <tbody>\n",
       "    <tr>\n",
       "      <th>0</th>\n",
       "      <td>1970s</td>\n",
       "      <td>239</td>\n",
       "    </tr>\n",
       "    <tr>\n",
       "      <th>1</th>\n",
       "      <td>funk</td>\n",
       "      <td>239</td>\n",
       "    </tr>\n",
       "    <tr>\n",
       "      <th>2</th>\n",
       "      <td>disco</td>\n",
       "      <td>239</td>\n",
       "    </tr>\n",
       "    <tr>\n",
       "      <th>3</th>\n",
       "      <td>1970s</td>\n",
       "      <td>480</td>\n",
       "    </tr>\n",
       "    <tr>\n",
       "      <th>4</th>\n",
       "      <td>new.york</td>\n",
       "      <td>480</td>\n",
       "    </tr>\n",
       "    <tr>\n",
       "      <th>...</th>\n",
       "      <td>...</td>\n",
       "      <td>...</td>\n",
       "    </tr>\n",
       "    <tr>\n",
       "      <th>161278</th>\n",
       "      <td>instrumental</td>\n",
       "      <td>58</td>\n",
       "    </tr>\n",
       "    <tr>\n",
       "      <th>161279</th>\n",
       "      <td>chill</td>\n",
       "      <td>58</td>\n",
       "    </tr>\n",
       "    <tr>\n",
       "      <th>161280</th>\n",
       "      <td>pop</td>\n",
       "      <td>19</td>\n",
       "    </tr>\n",
       "    <tr>\n",
       "      <th>161281</th>\n",
       "      <td>electronic</td>\n",
       "      <td>26</td>\n",
       "    </tr>\n",
       "    <tr>\n",
       "      <th>161282</th>\n",
       "      <td>australia</td>\n",
       "      <td>26</td>\n",
       "    </tr>\n",
       "  </tbody>\n",
       "</table>\n",
       "<p>161283 rows × 2 columns</p>\n",
       "</div>"
      ],
      "text/plain": [
       "                 tag  totalSnatched\n",
       "0              1970s            239\n",
       "1               funk            239\n",
       "2              disco            239\n",
       "3              1970s            480\n",
       "4           new.york            480\n",
       "...              ...            ...\n",
       "161278  instrumental             58\n",
       "161279         chill             58\n",
       "161280           pop             19\n",
       "161281    electronic             26\n",
       "161282     australia             26\n",
       "\n",
       "[161283 rows x 2 columns]"
      ]
     },
     "execution_count": 8,
     "metadata": {},
     "output_type": "execute_result"
    }
   ],
   "source": [
    "torrenty[[\"tag\", \"totalSnatched\"]]"
   ]
  },
  {
   "cell_type": "code",
   "execution_count": 9,
   "id": "91dd8715",
   "metadata": {},
   "outputs": [
    {
     "data": {
      "text/plain": [
       "tag                \n",
       "electronic             12681\n",
       "2010s                  10039\n",
       "instrumental            5622\n",
       "freely.available        5092\n",
       "experimental            4809\n",
       "                       ...  \n",
       "hip.hip.alternative        1\n",
       "hip.hop.90s                1\n",
       "hip.hop.ambient            1\n",
       "hip.hop.bulgarian          1\n",
       "zydeco                     1\n",
       "Length: 3677, dtype: int64"
      ]
     },
     "execution_count": 9,
     "metadata": {},
     "output_type": "execute_result"
    }
   ],
   "source": [
    "torrenty[[\"tag\"]].value_counts()"
   ]
  },
  {
   "cell_type": "code",
   "execution_count": 10,
   "id": "5053cd7e",
   "metadata": {},
   "outputs": [
    {
     "data": {
      "text/html": [
       "<div>\n",
       "<style scoped>\n",
       "    .dataframe tbody tr th:only-of-type {\n",
       "        vertical-align: middle;\n",
       "    }\n",
       "\n",
       "    .dataframe tbody tr th {\n",
       "        vertical-align: top;\n",
       "    }\n",
       "\n",
       "    .dataframe thead th {\n",
       "        text-align: right;\n",
       "    }\n",
       "</style>\n",
       "<table border=\"1\" class=\"dataframe\">\n",
       "  <thead>\n",
       "    <tr style=\"text-align: right;\">\n",
       "      <th></th>\n",
       "      <th>0</th>\n",
       "    </tr>\n",
       "    <tr>\n",
       "      <th>tag</th>\n",
       "      <th></th>\n",
       "    </tr>\n",
       "  </thead>\n",
       "  <tbody>\n",
       "    <tr>\n",
       "      <th>electronic</th>\n",
       "      <td>12681</td>\n",
       "    </tr>\n",
       "    <tr>\n",
       "      <th>2010s</th>\n",
       "      <td>10039</td>\n",
       "    </tr>\n",
       "    <tr>\n",
       "      <th>instrumental</th>\n",
       "      <td>5622</td>\n",
       "    </tr>\n",
       "    <tr>\n",
       "      <th>freely.available</th>\n",
       "      <td>5092</td>\n",
       "    </tr>\n",
       "    <tr>\n",
       "      <th>experimental</th>\n",
       "      <td>4809</td>\n",
       "    </tr>\n",
       "    <tr>\n",
       "      <th>...</th>\n",
       "      <td>...</td>\n",
       "    </tr>\n",
       "    <tr>\n",
       "      <th>hip.hip.alternative</th>\n",
       "      <td>1</td>\n",
       "    </tr>\n",
       "    <tr>\n",
       "      <th>hip.hop.90s</th>\n",
       "      <td>1</td>\n",
       "    </tr>\n",
       "    <tr>\n",
       "      <th>hip.hop.ambient</th>\n",
       "      <td>1</td>\n",
       "    </tr>\n",
       "    <tr>\n",
       "      <th>hip.hop.bulgarian</th>\n",
       "      <td>1</td>\n",
       "    </tr>\n",
       "    <tr>\n",
       "      <th>zydeco</th>\n",
       "      <td>1</td>\n",
       "    </tr>\n",
       "  </tbody>\n",
       "</table>\n",
       "<p>3677 rows × 1 columns</p>\n",
       "</div>"
      ],
      "text/plain": [
       "                         0\n",
       "tag                       \n",
       "electronic           12681\n",
       "2010s                10039\n",
       "instrumental          5622\n",
       "freely.available      5092\n",
       "experimental          4809\n",
       "...                    ...\n",
       "hip.hip.alternative      1\n",
       "hip.hop.90s              1\n",
       "hip.hop.ambient          1\n",
       "hip.hop.bulgarian        1\n",
       "zydeco                   1\n",
       "\n",
       "[3677 rows x 1 columns]"
      ]
     },
     "execution_count": 10,
     "metadata": {},
     "output_type": "execute_result"
    }
   ],
   "source": [
    "tags = pd.DataFrame(torrenty[[\"tag\"]].value_counts() )\n",
    "tags"
   ]
  },
  {
   "cell_type": "code",
   "execution_count": 11,
   "id": "36a64b54",
   "metadata": {},
   "outputs": [
    {
     "data": {
      "text/html": [
       "<div>\n",
       "<style scoped>\n",
       "    .dataframe tbody tr th:only-of-type {\n",
       "        vertical-align: middle;\n",
       "    }\n",
       "\n",
       "    .dataframe tbody tr th {\n",
       "        vertical-align: top;\n",
       "    }\n",
       "\n",
       "    .dataframe thead th {\n",
       "        text-align: right;\n",
       "    }\n",
       "</style>\n",
       "<table border=\"1\" class=\"dataframe\">\n",
       "  <thead>\n",
       "    <tr style=\"text-align: right;\">\n",
       "      <th></th>\n",
       "      <th>0</th>\n",
       "    </tr>\n",
       "    <tr>\n",
       "      <th>tag</th>\n",
       "      <th></th>\n",
       "    </tr>\n",
       "  </thead>\n",
       "  <tbody>\n",
       "    <tr>\n",
       "      <th>electronic</th>\n",
       "      <td>0.078632</td>\n",
       "    </tr>\n",
       "    <tr>\n",
       "      <th>2010s</th>\n",
       "      <td>0.062250</td>\n",
       "    </tr>\n",
       "    <tr>\n",
       "      <th>instrumental</th>\n",
       "      <td>0.034861</td>\n",
       "    </tr>\n",
       "    <tr>\n",
       "      <th>freely.available</th>\n",
       "      <td>0.031574</td>\n",
       "    </tr>\n",
       "    <tr>\n",
       "      <th>experimental</th>\n",
       "      <td>0.029820</td>\n",
       "    </tr>\n",
       "    <tr>\n",
       "      <th>...</th>\n",
       "      <td>...</td>\n",
       "    </tr>\n",
       "    <tr>\n",
       "      <th>hip.hip.alternative</th>\n",
       "      <td>0.000006</td>\n",
       "    </tr>\n",
       "    <tr>\n",
       "      <th>hip.hop.90s</th>\n",
       "      <td>0.000006</td>\n",
       "    </tr>\n",
       "    <tr>\n",
       "      <th>hip.hop.ambient</th>\n",
       "      <td>0.000006</td>\n",
       "    </tr>\n",
       "    <tr>\n",
       "      <th>hip.hop.bulgarian</th>\n",
       "      <td>0.000006</td>\n",
       "    </tr>\n",
       "    <tr>\n",
       "      <th>zydeco</th>\n",
       "      <td>0.000006</td>\n",
       "    </tr>\n",
       "  </tbody>\n",
       "</table>\n",
       "<p>3677 rows × 1 columns</p>\n",
       "</div>"
      ],
      "text/plain": [
       "                            0\n",
       "tag                          \n",
       "electronic           0.078632\n",
       "2010s                0.062250\n",
       "instrumental         0.034861\n",
       "freely.available     0.031574\n",
       "experimental         0.029820\n",
       "...                       ...\n",
       "hip.hip.alternative  0.000006\n",
       "hip.hop.90s          0.000006\n",
       "hip.hop.ambient      0.000006\n",
       "hip.hop.bulgarian    0.000006\n",
       "zydeco               0.000006\n",
       "\n",
       "[3677 rows x 1 columns]"
      ]
     },
     "execution_count": 11,
     "metadata": {},
     "output_type": "execute_result"
    }
   ],
   "source": [
    "tags_perc = pd.DataFrame(torrenty[[\"tag\"]].value_counts(normalize=True))\n",
    "tags_perc"
   ]
  },
  {
   "cell_type": "code",
   "execution_count": 35,
   "id": "b382ec7a",
   "metadata": {},
   "outputs": [
    {
     "data": {
      "text/plain": [
       "(array([3648,   15,    6,    4,    2,    0,    0,    1,    0,    1]),\n",
       " array([1.0000e+00, 1.2690e+03, 2.5370e+03, 3.8050e+03, 5.0730e+03,\n",
       "        6.3410e+03, 7.6090e+03, 8.8770e+03, 1.0145e+04, 1.1413e+04,\n",
       "        1.2681e+04]))"
      ]
     },
     "execution_count": 35,
     "metadata": {},
     "output_type": "execute_result"
    }
   ],
   "source": [
    "np.histogram(tags)"
   ]
  },
  {
   "cell_type": "code",
   "execution_count": 34,
   "id": "51b6c848",
   "metadata": {},
   "outputs": [
    {
     "data": {
      "text/plain": [
       "(array([3.663e+03, 1.000e+01, 2.000e+00, 1.000e+00, 1.000e+00]),\n",
       " array([1.0000e+00, 2.5370e+03, 5.0730e+03, 7.6090e+03, 1.0145e+04,\n",
       "        1.2681e+04]),\n",
       " <BarContainer object of 5 artists>)"
      ]
     },
     "execution_count": 34,
     "metadata": {},
     "output_type": "execute_result"
    },
    {
     "data": {
      "image/png": "[encoded data removed]",
      "text/plain": [
       "<Figure size 432x288 with 1 Axes>"
      ]
     },
     "metadata": {
      "needs_background": "light"
     },
     "output_type": "display_data"
    }
   ],
   "source": [
    "plt.hist(tags, bins=5)"
   ]
  },
  {
   "cell_type": "code",
   "execution_count": 39,
   "id": "e86ff756",
   "metadata": {},
   "outputs": [
    {
     "data": {
      "text/plain": [
       "<AxesSubplot:xlabel='tag'>"
      ]
     },
     "execution_count": 39,
     "metadata": {},
     "output_type": "execute_result"
    },
    {
     "data": {
      "image/png": "[encoded data removed]",
      "text/plain": [
       "<Figure size 432x288 with 1 Axes>"
      ]
     },
     "metadata": {
      "needs_background": "light"
     },
     "output_type": "display_data"
    }
   ],
   "source": [
    "tags.plot()"
   ]
  },
  {
   "cell_type": "code",
   "execution_count": 48,
   "id": "73c720ef",
   "metadata": {},
   "outputs": [
    {
     "data": {
      "text/plain": [
       "Index(['id', 'groupName', 'totalSnatched', 'artist', 'groupYear',\n",
       "       'releaseType', 'tag'],\n",
       "      dtype='object')"
      ]
     },
     "execution_count": 48,
     "metadata": {},
     "output_type": "execute_result"
    }
   ],
   "source": [
    "## Grupowanie po artystach\n",
    "torrenty.columns"
   ]
  },
  {
   "cell_type": "code",
   "execution_count": 62,
   "id": "f98191b1",
   "metadata": {},
   "outputs": [],
   "source": [
    "torr_grouped_artist = torrenty.groupby([\"artist\"])[\"tag\"].count()"
   ]
  },
  {
   "cell_type": "code",
   "execution_count": 60,
   "id": "58993f29",
   "metadata": {},
   "outputs": [
    {
     "data": {
      "text/plain": [
       "artist\n",
       "!ll.martians             24\n",
       "!llmind                 260\n",
       "!llmind & skyzoo       1258\n",
       "\"e\"qual                   3\n",
       "\"invictus\" mosai         44\n",
       "                       ... \n",
       "회사auto                  280\n",
       "︻╦╤─ ʊz ─╤╦︻           5389\n",
       "＼(^o^)／ & tofubeats     216\n",
       "ｂｅｔａｇａｋｉ                 10\n",
       "ｏｌｄ ｍａｓｋ                 68\n",
       "Name: totalSnatched, Length: 26809, dtype: int64"
      ]
     },
     "execution_count": 60,
     "metadata": {},
     "output_type": "execute_result"
    }
   ],
   "source": [
    "torr_grouped_artist"
   ]
  },
  {
   "cell_type": "code",
   "execution_count": null,
   "id": "2e155382",
   "metadata": {},
   "outputs": [],
   "source": []
  },
  {
   "cell_type": "code",
   "execution_count": null,
   "id": "73d5b70d",
   "metadata": {},
   "outputs": [],
   "source": []
  },
  {
   "cell_type": "code",
   "execution_count": null,
   "id": "9b9d0c9c",
   "metadata": {},
   "outputs": [],
   "source": []
  },
  {
   "cell_type": "code",
   "execution_count": 50,
   "id": "600a985a",
   "metadata": {},
   "outputs": [],
   "source": []
  },
  {
   "cell_type": "markdown",
   "id": "55f707b9",
   "metadata": {},
   "source": [
    "# NLP"
   ]
  },
  {
   "cell_type": "code",
   "execution_count": 36,
   "id": "69c78623",
   "metadata": {},
   "outputs": [
    {
     "data": {
      "text/plain": [
       "0                1970s\n",
       "1                 funk\n",
       "2                disco\n",
       "3                1970s\n",
       "4             new.york\n",
       "              ...     \n",
       "161278    instrumental\n",
       "161279           chill\n",
       "161280             pop\n",
       "161281      electronic\n",
       "161282       australia\n",
       "Name: tag, Length: 161283, dtype: object"
      ]
     },
     "execution_count": 36,
     "metadata": {},
     "output_type": "execute_result"
    }
   ],
   "source": [
    "\n",
    "tags_all[\"tag\"]"
   ]
  },
  {
   "cell_type": "code",
   "execution_count": 27,
   "id": "9508b0e5",
   "metadata": {},
   "outputs": [],
   "source": [
    "tokens = tags_all[\"tag\"]"
   ]
  },
  {
   "cell_type": "code",
   "execution_count": 28,
   "id": "08748197",
   "metadata": {},
   "outputs": [],
   "source": [
    "freq = nltk.FreqDist(tokens)"
   ]
  },
  {
   "cell_type": "code",
   "execution_count": 29,
   "id": "7f82ab69",
   "metadata": {},
   "outputs": [
    {
     "data": {
      "text/plain": [
       "FreqDist({'electronic': 12681, '2010s': 10039, 'instrumental': 5622, 'freely.available': 5092, 'experimental': 4809, '1990s': 4736, 'beats': 4619, 'pop': 4104, '2000s': 3746, 'rhythm.and.blues': 3546, ...})"
      ]
     },
     "execution_count": 29,
     "metadata": {},
     "output_type": "execute_result"
    }
   ],
   "source": [
    "freq"
   ]
  },
  {
   "cell_type": "code",
   "execution_count": 30,
   "id": "38a368c4",
   "metadata": {},
   "outputs": [
    {
     "data": {
      "image/png": "[encoded data removed]",
      "text/plain": [
       "<Figure size 432x288 with 1 Axes>"
      ]
     },
     "metadata": {
      "needs_background": "light"
     },
     "output_type": "display_data"
    },
    {
     "data": {
      "text/plain": [
       "<AxesSubplot:xlabel='Samples', ylabel='Counts'>"
      ]
     },
     "execution_count": 30,
     "metadata": {},
     "output_type": "execute_result"
    }
   ],
   "source": [
    "freq.plot(20, cumulative=False)"
   ]
  },
  {
   "cell_type": "code",
   "execution_count": null,
   "id": "e5a1b871",
   "metadata": {},
   "outputs": [],
   "source": []
  }
 ],
 "metadata": {
  "kernelspec": {
   "display_name": "Python 3",
   "language": "python",
   "name": "python3"
  },
  "language_info": {
   "codemirror_mode": {
    "name": "ipython",
    "version": 3
   },
   "file_extension": ".py",
   "mimetype": "text/x-python",
   "name": "python",
   "nbconvert_exporter": "python",
   "pygments_lexer": "ipython3",
   "version": "3.8.10"
  }
 },
 "nbformat": 4,
 "nbformat_minor": 5
}
